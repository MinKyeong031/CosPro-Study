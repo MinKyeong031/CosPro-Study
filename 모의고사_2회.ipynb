{
  "nbformat": 4,
  "nbformat_minor": 0,
  "metadata": {
    "colab": {
      "name": "모의고사 2회.ipynb",
      "provenance": [],
      "collapsed_sections": [],
      "authorship_tag": "ABX9TyNu5l9AN5zt0JM8IpLPd+b2",
      "include_colab_link": true
    },
    "kernelspec": {
      "name": "python3",
      "display_name": "Python 3"
    }
  },
  "cells": [
    {
      "cell_type": "markdown",
      "metadata": {
        "id": "view-in-github",
        "colab_type": "text"
      },
      "source": [
        "<a href=\"https://colab.research.google.com/github/MinKyeong031/CosPro-Study/blob/main/%EB%AA%A8%EC%9D%98%EA%B3%A0%EC%82%AC_2%ED%9A%8C.ipynb\" target=\"_parent\"><img src=\"https://colab.research.google.com/assets/colab-badge.svg\" alt=\"Open In Colab\"/></a>"
      ]
    },
    {
      "cell_type": "code",
      "metadata": {
        "colab": {
          "base_uri": "https://localhost:8080/"
        },
        "id": "KD3csPkP80Dd",
        "outputId": "efdb051d-9c3c-483f-e3b3-aba78e9a5089"
      },
      "source": [
        "#02-01\r\n",
        "def solution(n, price):\r\n",
        "    games = n*(n-1) // 2\r\n",
        "    per_day = n // 2\r\n",
        "    answer = (games // per_day) * price\r\n",
        "    return answer\r\n",
        "\r\n",
        "teams = 7\r\n",
        "price = 100000\r\n",
        "solution(teams, price)"
      ],
      "execution_count": null,
      "outputs": [
        {
          "output_type": "execute_result",
          "data": {
            "text/plain": [
              "700000"
            ]
          },
          "metadata": {
            "tags": []
          },
          "execution_count": 32
        }
      ]
    },
    {
      "cell_type": "code",
      "metadata": {
        "colab": {
          "base_uri": "https://localhost:8080/"
        },
        "id": "eXkGiID-9YuL",
        "outputId": "b694ac9b-49b8-46c0-bb09-2b916524dae9"
      },
      "source": [
        "#02-02\r\n",
        "def solution(shoes_size):\r\n",
        "   answer = [0 for _ in range(6)]\r\n",
        "   for size in shoes_size:\r\n",
        "      if size == \"7\":\r\n",
        "         answer[0] +=1 \r\n",
        "      elif size == \"7.5\":\r\n",
        "         answer[1]+=1\r\n",
        "      elif size == \"8\":\r\n",
        "         answer[2]+=1\r\n",
        "      elif size == \"8.5\":\r\n",
        "         answer[3]+=1\r\n",
        "      elif size == \"9\":\r\n",
        "         answer[4]+=1\r\n",
        "      elif size == \"9.5\":\r\n",
        "         answer[5]+=1\r\n",
        "   return answer\r\n",
        "\r\n",
        "shoes_size = [\"7\", \"7.5\", \"8\", \"8.5\", \"9\", \"9.5\"]\r\n",
        "solution(shoes_size)"
      ],
      "execution_count": null,
      "outputs": [
        {
          "output_type": "execute_result",
          "data": {
            "text/plain": [
              "[1, 1, 1, 1, 1, 1]"
            ]
          },
          "metadata": {
            "tags": []
          },
          "execution_count": 34
        }
      ]
    },
    {
      "cell_type": "code",
      "metadata": {
        "colab": {
          "base_uri": "https://localhost:8080/"
        },
        "id": "_a7MSSTq9ZAq",
        "outputId": "2219d70a-b1f6-4390-9e79-2b00a73fdf7c"
      },
      "source": [
        "#02-03\r\n",
        "def func_a(arr, num): \r\n",
        "    ret = []\r\n",
        "    for i in arr:\r\n",
        "        if i != num:\r\n",
        "            ret.append(i)\r\n",
        "    return ret\r\n",
        "\r\n",
        "def func_b(a, b):\r\n",
        "    if a >= b:\r\n",
        "        return a - b\r\n",
        "    else:\r\n",
        "        return b - a\r\n",
        "\r\n",
        "def func_c(arr):\r\n",
        "    ret = -1\r\n",
        "    for i in arr:\r\n",
        "        if ret < i:\r\n",
        "            ret = i\r\n",
        "    return ret\r\n",
        "\r\n",
        "def solution(visitor):  \r\n",
        "    max_first = func_c(visitor)\r\n",
        "    visitor_removed = func_a(visitor, max_first)\r\n",
        "    max_second = func_c(visitor_removed)\r\n",
        "    answer = func_b(max_first, max_second)\r\n",
        "    return answer\r\n",
        "\r\n",
        "visitor = [1,3,2,4,5,3,6,3,7,4,5,7]\r\n",
        "solution(visitor)"
      ],
      "execution_count": null,
      "outputs": [
        {
          "output_type": "execute_result",
          "data": {
            "text/plain": [
              "1"
            ]
          },
          "metadata": {
            "tags": []
          },
          "execution_count": 36
        }
      ]
    },
    {
      "cell_type": "code",
      "metadata": {
        "colab": {
          "base_uri": "https://localhost:8080/"
        },
        "id": "MJ5GI4G99ZGS",
        "outputId": "1bbed47e-51b0-4124-e3b2-0289c700852d"
      },
      "source": [
        "#02-04\r\n",
        "def solution(scores):\r\n",
        "    grade_counter = [ 0 for i in range(5) ]\r\n",
        "    for i in scores:\r\n",
        "        if i >= 85:\r\n",
        "            grade_counter[0] += 1\r\n",
        "        elif i >= 70:\r\n",
        "            grade_counter[1] += 1\r\n",
        "        elif i >= 55:\r\n",
        "            grade_counter[2] += 1\r\n",
        "        elif i >= 40:\r\n",
        "            grade_counter[3] += 1\r\n",
        "        else:\r\n",
        "            grade_counter[4] += 1\r\n",
        "    return grade_counter\r\n",
        "\r\n",
        "scores = [10,20,30,40,50,60,70,80,90,100]\r\n",
        "solution(scores)"
      ],
      "execution_count": null,
      "outputs": [
        {
          "output_type": "execute_result",
          "data": {
            "text/plain": [
              "[2, 2, 1, 2, 3]"
            ]
          },
          "metadata": {
            "tags": []
          },
          "execution_count": 35
        }
      ]
    },
    {
      "cell_type": "code",
      "metadata": {
        "colab": {
          "base_uri": "https://localhost:8080/"
        },
        "id": "6mWGSc-19ZPR",
        "outputId": "e8bc60a5-a5de-4cf6-a184-a14dcd5c30e9"
      },
      "source": [
        "#02-05\r\n",
        "def func_a(arr):\r\n",
        "    counter = [0 for _ in range(1001)]\r\n",
        "    for i in arr:\r\n",
        "        counter[i] += 1                 \r\n",
        "    return counter\r\n",
        "\r\n",
        "def func_b(arr):\r\n",
        "    ret = 0\r\n",
        "    for i in arr:  \r\n",
        "        if ret < i:      \r\n",
        "            ret = i    \r\n",
        "    return ret\r\n",
        "\r\n",
        "def func_c(arr):\r\n",
        "    ret = func_b(arr)\r\n",
        "    for i in arr:\r\n",
        "        if i !=0 and ret > i:\r\n",
        "            ret = i\r\n",
        "    return ret\r\n",
        "\r\n",
        "def solution(arr):\r\n",
        "    counter = func_a(arr)\r\n",
        "    max_cnt = func_b(counter)\r\n",
        "    min_cnt = func_c(counter)\r\n",
        "    print(max_cnt , min_cnt)\r\n",
        "    return max_cnt // min_cnt\r\n",
        "\r\n",
        "arr = [1,2,3,1,1,2,1,2,1,2,3,1,1,1,1,1]\r\n",
        "solution(arr)"
      ],
      "execution_count": null,
      "outputs": [
        {
          "output_type": "stream",
          "text": [
            "10 2\n"
          ],
          "name": "stdout"
        },
        {
          "output_type": "execute_result",
          "data": {
            "text/plain": [
              "5"
            ]
          },
          "metadata": {
            "tags": []
          },
          "execution_count": 37
        }
      ]
    },
    {
      "cell_type": "code",
      "metadata": {
        "colab": {
          "base_uri": "https://localhost:8080/"
        },
        "id": "qwhY10rb9ZVw",
        "outputId": "4dbfce9a-14c5-433e-d99d-af408e9ce68a"
      },
      "source": [
        "#02-06\r\n",
        "def solution(weight, k):\r\n",
        "    answer = 0\r\n",
        "    for w in weight:\r\n",
        "        if w > k: \r\n",
        "            answer += 1\r\n",
        "    return answer\r\n",
        "\r\n",
        "weights = [65,70,75,80,84]\r\n",
        "solution(weights, 70)"
      ],
      "execution_count": null,
      "outputs": [
        {
          "output_type": "execute_result",
          "data": {
            "text/plain": [
              "3"
            ]
          },
          "metadata": {
            "tags": []
          },
          "execution_count": 38
        }
      ]
    },
    {
      "cell_type": "code",
      "metadata": {
        "colab": {
          "base_uri": "https://localhost:8080/",
          "height": 35
        },
        "id": "7mCuIuhG9Zbh",
        "outputId": "b7bdf3a0-3f39-48d2-b254-050d08dcf897"
      },
      "source": [
        "#02-07\r\n",
        "def solution(s):\r\n",
        "    answer = []\r\n",
        "    for c in s:\r\n",
        "        if '0' <= c <= '9':\r\n",
        "            n = ord('i')-ord(c)\r\n",
        "            c = chr(n)\r\n",
        "        answer.append(c)\r\n",
        "    return ''.join(answer)\r\n",
        "\r\n",
        "s = \"ab1c3d\"\r\n",
        "solution(s)"
      ],
      "execution_count": null,
      "outputs": [
        {
          "output_type": "execute_result",
          "data": {
            "application/vnd.google.colaboratory.intrinsic+json": {
              "type": "string"
            },
            "text/plain": [
              "'ab8c6d'"
            ]
          },
          "metadata": {
            "tags": []
          },
          "execution_count": 39
        }
      ]
    },
    {
      "cell_type": "code",
      "metadata": {
        "colab": {
          "base_uri": "https://localhost:8080/"
        },
        "id": "CgLcqWop9t-y",
        "outputId": "dcd8618d-1a99-414e-b58d-7819b830b74c"
      },
      "source": [
        "#02-08\r\n",
        "def solution(name_list):\r\n",
        "    answer = 0\r\n",
        "    for name in name_list:\r\n",
        "        for char in name:\r\n",
        "            if char.find('A') > -1 or char.find('K') > -1:\r\n",
        "                answer += 1\r\n",
        "                break\r\n",
        "    return answer\r\n",
        "\r\n",
        "names = ['Adios', \"Kickboard Association\", \"google\"]\r\n",
        "solution(names)"
      ],
      "execution_count": null,
      "outputs": [
        {
          "output_type": "execute_result",
          "data": {
            "text/plain": [
              "2"
            ]
          },
          "metadata": {
            "tags": []
          },
          "execution_count": 40
        }
      ]
    },
    {
      "cell_type": "code",
      "metadata": {
        "colab": {
          "base_uri": "https://localhost:8080/"
        },
        "id": "QhblF2gZ9uD1",
        "outputId": "c1557461-698e-42c2-efc7-9225fb8d08ba"
      },
      "source": [
        "#02-09\r\n",
        "def solution(orders):\r\n",
        "    answer = 0\r\n",
        "    size = 0\r\n",
        "    for o in orders:\r\n",
        "        for i in range(6):\r\n",
        "            if o[i] != 0:\r\n",
        "                size += ((i+1)**2)*(o[i])\r\n",
        "    print(size , size // 36)\r\n",
        "    answer = size // 36\r\n",
        "    if size % 36 != 0:\r\n",
        "        answer += 1\r\n",
        "    return answer\r\n",
        "    \r\n",
        "orders = [ [0, 0, 4, 0, 1, 1], [7, 5, 1, 0, 1, 0] ] \r\n",
        "solution(orders)"
      ],
      "execution_count": null,
      "outputs": [
        {
          "output_type": "stream",
          "text": [
            "158 4\n"
          ],
          "name": "stdout"
        },
        {
          "output_type": "execute_result",
          "data": {
            "text/plain": [
              "5"
            ]
          },
          "metadata": {
            "tags": []
          },
          "execution_count": 41
        }
      ]
    },
    {
      "cell_type": "code",
      "metadata": {
        "colab": {
          "base_uri": "https://localhost:8080/",
          "height": 71
        },
        "id": "MJN9qFuR9uT8",
        "outputId": "115c40fc-a296-4684-cc2b-3727138e2c37"
      },
      "source": [
        "#02-10\r\n",
        "def sum_isbn(isbn):\r\n",
        "    print(isbn)\r\n",
        "    sum = 0\r\n",
        "    for i in range(len(isbn)):\r\n",
        "        c = int(isbn[i])\r\n",
        "        if i % 2: \r\n",
        "            w = 3\r\n",
        "        else: \r\n",
        "            w = 1\r\n",
        "        sum += w * c\r\n",
        "    return sum\r\n",
        "\r\n",
        "def solution(isbn):\r\n",
        "    print(isbn)\r\n",
        "    answer = ''\r\n",
        "    sum = sum_isbn( isbn[:-1] )\r\n",
        "    r = 10 - (sum % 10)\r\n",
        "    if r == 10: \r\n",
        "        answer = '0'\r\n",
        "    else:\r\n",
        "        answer = str(r)\r\n",
        "    return answer\r\n",
        "\r\n",
        "solution('9788970508122')"
      ],
      "execution_count": null,
      "outputs": [
        {
          "output_type": "stream",
          "text": [
            "9788970508122\n",
            "978897050812\n"
          ],
          "name": "stdout"
        },
        {
          "output_type": "execute_result",
          "data": {
            "application/vnd.google.colaboratory.intrinsic+json": {
              "type": "string"
            },
            "text/plain": [
              "'2'"
            ]
          },
          "metadata": {
            "tags": []
          },
          "execution_count": 42
        }
      ]
    }
  ]
}