{
  "nbformat": 4,
  "nbformat_minor": 0,
  "metadata": {
    "colab": {
      "name": "0113모의고사.ipynb",
      "provenance": [],
      "collapsed_sections": [],
      "authorship_tag": "ABX9TyPpWkvHoVtHtduehLIZJGwu",
      "include_colab_link": true
    },
    "kernelspec": {
      "name": "python3",
      "display_name": "Python 3"
    }
  },
  "cells": [
    {
      "cell_type": "markdown",
      "metadata": {
        "id": "view-in-github",
        "colab_type": "text"
      },
      "source": [
        "<a href=\"https://colab.research.google.com/github/MinKyeong031/CosPro-Study/blob/main/0113%EB%AA%A8%EC%9D%98%EA%B3%A0%EC%82%AC.ipynb\" target=\"_parent\"><img src=\"https://colab.research.google.com/assets/colab-badge.svg\" alt=\"Open In Colab\"/></a>"
      ]
    },
    {
      "cell_type": "code",
      "metadata": {
        "colab": {
          "base_uri": "https://localhost:8080/"
        },
        "id": "NTYiKUIxSTlQ",
        "outputId": "1e4b9d54-b29d-41e9-b322-4da6458ad940"
      },
      "source": [
        "#01-01\r\n",
        "def solution(arr, k):\r\n",
        "  answer = k\r\n",
        "  for i in arr:\r\n",
        "    answer -= i\r\n",
        "  if answer < 0:\r\n",
        "    answer = -1\r\n",
        "  return answer\r\n",
        "\r\n",
        "price = [2100, 3200, 2100, 800]\r\n",
        "money = 10000\r\n",
        "solution(price,money)"
      ],
      "execution_count": null,
      "outputs": [
        {
          "output_type": "execute_result",
          "data": {
            "text/plain": [
              "1800"
            ]
          },
          "metadata": {
            "tags": []
          },
          "execution_count": 31
        }
      ]
    },
    {
      "cell_type": "code",
      "metadata": {
        "colab": {
          "base_uri": "https://localhost:8080/"
        },
        "id": "MIIeB4PITFVc",
        "outputId": "a9a9b996-b3bd-4f29-9da5-551e851a6f9e"
      },
      "source": [
        "#01-02\r\n",
        "def func_a(s):\r\n",
        "  s.sort()\r\n",
        "  return s[len(s)-1], s[0]\r\n",
        "\r\n",
        "def func_b(s):\r\n",
        "  ret = 0\r\n",
        "  for i in s:\r\n",
        "    ret += i\r\n",
        "  return ret\r\n",
        "\r\n",
        "def solution(scores):\r\n",
        "  sum = func_b(scores)\r\n",
        "  max, min = func_a(scores)\r\n",
        "  return sum-max-min\r\n",
        "\r\n",
        "scores = [10,20,50,90,30,40]\r\n",
        "solution(scores)"
      ],
      "execution_count": null,
      "outputs": [
        {
          "output_type": "execute_result",
          "data": {
            "text/plain": [
              "140"
            ]
          },
          "metadata": {
            "tags": []
          },
          "execution_count": 30
        }
      ]
    },
    {
      "cell_type": "code",
      "metadata": {
        "colab": {
          "base_uri": "https://localhost:8080/"
        },
        "id": "R8oH7FmmU4nh",
        "outputId": "b1287e37-16fe-44cc-81f4-848ce92ed421"
      },
      "source": [
        "#03\r\n",
        "def solution(scores):\r\n",
        "  count = 0\r\n",
        "  for s in range(len(scores)):\r\n",
        "    if scores[s] <= 200:\r\n",
        "      count += 1\r\n",
        "  return count\r\n",
        "\r\n",
        "scores = [100,200,300,400]\r\n",
        "solution(scores)"
      ],
      "execution_count": null,
      "outputs": [
        {
          "output_type": "execute_result",
          "data": {
            "text/plain": [
              "2"
            ]
          },
          "metadata": {
            "tags": []
          },
          "execution_count": 29
        }
      ]
    },
    {
      "cell_type": "code",
      "metadata": {
        "colab": {
          "base_uri": "https://localhost:8080/"
        },
        "id": "vOSg85x2VZFT",
        "outputId": "150f6552-b3b6-4664-cd3b-6444f3f4bb7d"
      },
      "source": [
        "#01-04\r\n",
        "def solution(price, grade):\r\n",
        "  answer = 0\r\n",
        "  if grade == \"S\":\r\n",
        "    answer = int(price + price * 0.05)\r\n",
        "  elif grade == \"G\":\r\n",
        "    answer = int(price + price * 0.1)\r\n",
        "  elif grade == \"V\":\r\n",
        "    answer = int(price + price * 0.15)\r\n",
        "  return answer\r\n",
        "\r\n",
        "price = 1300\r\n",
        "grade = \"G\"\r\n",
        "solution(price,grade)"
      ],
      "execution_count": null,
      "outputs": [
        {
          "output_type": "execute_result",
          "data": {
            "text/plain": [
              "1430"
            ]
          },
          "metadata": {
            "tags": []
          },
          "execution_count": 28
        }
      ]
    },
    {
      "cell_type": "code",
      "metadata": {
        "colab": {
          "base_uri": "https://localhost:8080/"
        },
        "id": "ErtfvHenV0Vk",
        "outputId": "f57dc489-cadc-4be7-9487-233a57892e05"
      },
      "source": [
        "#01-05\r\n",
        "def solution(number):\r\n",
        "  count = 0\r\n",
        "  for i in range(1, number+1):\r\n",
        "    current = i\r\n",
        "    while current != 0:\r\n",
        "      unit = current % 10\r\n",
        "      if unit == 3 or unit == 6 or unit == 9:\r\n",
        "        count += 1\r\n",
        "      current //= 10\r\n",
        "  return count\r\n",
        "\r\n",
        "number = 36\r\n",
        "solution(number)"
      ],
      "execution_count": null,
      "outputs": [
        {
          "output_type": "execute_result",
          "data": {
            "text/plain": [
              "18"
            ]
          },
          "metadata": {
            "tags": []
          },
          "execution_count": 27
        }
      ]
    },
    {
      "cell_type": "code",
      "metadata": {
        "colab": {
          "base_uri": "https://localhost:8080/"
        },
        "id": "-j25yB4ZW-3d",
        "outputId": "e1bf67b5-c812-4f1f-c145-9c954692d51b"
      },
      "source": [
        "#01-06\r\n",
        "def solution(left_rings):\r\n",
        "  answer = 0\r\n",
        "  for i in range(len(left_rings)):\r\n",
        "    if left_rings[i] <= i:\r\n",
        "      for k in range(i):\r\n",
        "        if left_rings[k] > left_rings[i]:\r\n",
        "          answer += 1\r\n",
        "  return answer\r\n",
        "\r\n",
        "leftrings = [1,4,2,5,3]\r\n",
        "solution(leftrings)"
      ],
      "execution_count": null,
      "outputs": [
        {
          "output_type": "execute_result",
          "data": {
            "text/plain": [
              "3"
            ]
          },
          "metadata": {
            "tags": []
          },
          "execution_count": 25
        }
      ]
    },
    {
      "cell_type": "code",
      "metadata": {
        "colab": {
          "base_uri": "https://localhost:8080/"
        },
        "id": "h4oVp5V-Xmq0",
        "outputId": "3a0a2e82-ea20-4fc9-8e9a-1ae3d3304b65"
      },
      "source": [
        "#01-07\r\n",
        "def solution(file_info):\r\n",
        "  success = 0\r\n",
        "  fail = 0\r\n",
        "  for f in file_info:\r\n",
        "    splited = f.split(\",\")\r\n",
        "    if splited[0] == \"jpeg\" and int(splited[2]) < 1000:\r\n",
        "      success += 1\r\n",
        "    else:\r\n",
        "      fail += 1\r\n",
        "    return success, fail\r\n",
        "\r\n",
        "files_info = [\"jpeg,all.jpg,1500\",\"mpeg,all.mp3,500\"]\r\n",
        "solution(files_info)"
      ],
      "execution_count": null,
      "outputs": [
        {
          "output_type": "execute_result",
          "data": {
            "text/plain": [
              "(0, 1)"
            ]
          },
          "metadata": {
            "tags": []
          },
          "execution_count": 26
        }
      ]
    },
    {
      "cell_type": "code",
      "metadata": {
        "colab": {
          "base_uri": "https://localhost:8080/"
        },
        "id": "Sz1u8GXiZqZo",
        "outputId": "8b0dd9d4-cd45-42f9-a946-59273ec8daa6"
      },
      "source": [
        "#01-08\r\n",
        "def solution(sentence):\r\n",
        "  filtered = []\r\n",
        "  for s in sentence:\r\n",
        "    if s != '' and s != '.':\r\n",
        "      filtered.append(s)\r\n",
        "  before = ''.join(filtered)\r\n",
        "  filtered.reverse()\r\n",
        "  after = ''.join(filtered)\r\n",
        "  return before == after\r\n",
        "\r\n",
        "sentence = \"r     ace c.a.ra\"\r\n",
        "solution(sentence)"
      ],
      "execution_count": null,
      "outputs": [
        {
          "output_type": "execute_result",
          "data": {
            "text/plain": [
              "False"
            ]
          },
          "metadata": {
            "tags": []
          },
          "execution_count": 24
        }
      ]
    },
    {
      "cell_type": "code",
      "metadata": {
        "colab": {
          "base_uri": "https://localhost:8080/",
          "height": 35
        },
        "id": "S1YeydzKaTkH",
        "outputId": "18786064-7099-4bce-acb1-eb404fe8cfed"
      },
      "source": [
        "#01-09\r\n",
        "def solution(characters):\r\n",
        "  result = [characters[0]]\r\n",
        "  for i in range(1, len(characters)):\r\n",
        "    if characters[i-1] != characters[i]:\r\n",
        "      result.append(characters[i])\r\n",
        "  return ''.join(result)\r\n",
        "  \r\n",
        "sentence = \"senteeeencccccceeee\"\r\n",
        "solution(sentence)"
      ],
      "execution_count": null,
      "outputs": [
        {
          "output_type": "execute_result",
          "data": {
            "application/vnd.google.colaboratory.intrinsic+json": {
              "type": "string"
            },
            "text/plain": [
              "'sentence'"
            ]
          },
          "metadata": {
            "tags": []
          },
          "execution_count": 23
        }
      ]
    },
    {
      "cell_type": "code",
      "metadata": {
        "colab": {
          "base_uri": "https://localhost:8080/"
        },
        "id": "evxZRP01a5JK",
        "outputId": "3ac15b22-56a3-4d9e-a741-4b93072db9e0"
      },
      "source": [
        "#01-10\r\n",
        "def solution(data):\r\n",
        "    total = 0\r\n",
        "    for i in data:\r\n",
        "        total += i\r\n",
        "    cnt = 0\r\n",
        "    average = total // len(data)\r\n",
        "    for i in data:\r\n",
        "        if i < average:\r\n",
        "            cnt += 1\r\n",
        "    return cnt\r\n",
        "\r\n",
        "\r\n",
        "data = [1, 2, 3, 4, 5, 6, 7, 8, 9, 10]\r\n",
        "solution(data)"
      ],
      "execution_count": null,
      "outputs": [
        {
          "output_type": "execute_result",
          "data": {
            "text/plain": [
              "4"
            ]
          },
          "metadata": {
            "tags": []
          },
          "execution_count": 22
        }
      ]
    },
    {
      "cell_type": "code",
      "metadata": {
        "colab": {
          "base_uri": "https://localhost:8080/"
        },
        "id": "KD3csPkP80Dd",
        "outputId": "efdb051d-9c3c-483f-e3b3-aba78e9a5089"
      },
      "source": [
        "#02-01\r\n",
        "def solution(n, price):\r\n",
        "    games = n*(n-1) // 2\r\n",
        "    per_day = n // 2\r\n",
        "    answer = (games // per_day) * price\r\n",
        "    return answer\r\n",
        "\r\n",
        "teams = 7\r\n",
        "price = 100000\r\n",
        "solution(teams, price)"
      ],
      "execution_count": null,
      "outputs": [
        {
          "output_type": "execute_result",
          "data": {
            "text/plain": [
              "700000"
            ]
          },
          "metadata": {
            "tags": []
          },
          "execution_count": 32
        }
      ]
    },
    {
      "cell_type": "code",
      "metadata": {
        "colab": {
          "base_uri": "https://localhost:8080/"
        },
        "id": "eXkGiID-9YuL",
        "outputId": "b694ac9b-49b8-46c0-bb09-2b916524dae9"
      },
      "source": [
        "#02-02\r\n",
        "def solution(shoes_size):\r\n",
        "   answer = [0 for _ in range(6)]\r\n",
        "   for size in shoes_size:\r\n",
        "      if size == \"7\":\r\n",
        "         answer[0] +=1 \r\n",
        "      elif size == \"7.5\":\r\n",
        "         answer[1]+=1\r\n",
        "      elif size == \"8\":\r\n",
        "         answer[2]+=1\r\n",
        "      elif size == \"8.5\":\r\n",
        "         answer[3]+=1\r\n",
        "      elif size == \"9\":\r\n",
        "         answer[4]+=1\r\n",
        "      elif size == \"9.5\":\r\n",
        "         answer[5]+=1\r\n",
        "   return answer\r\n",
        "\r\n",
        "shoes_size = [\"7\", \"7.5\", \"8\", \"8.5\", \"9\", \"9.5\"]\r\n",
        "solution(shoes_size)"
      ],
      "execution_count": null,
      "outputs": [
        {
          "output_type": "execute_result",
          "data": {
            "text/plain": [
              "[1, 1, 1, 1, 1, 1]"
            ]
          },
          "metadata": {
            "tags": []
          },
          "execution_count": 34
        }
      ]
    },
    {
      "cell_type": "code",
      "metadata": {
        "colab": {
          "base_uri": "https://localhost:8080/"
        },
        "id": "_a7MSSTq9ZAq",
        "outputId": "2219d70a-b1f6-4390-9e79-2b00a73fdf7c"
      },
      "source": [
        "#02-03\r\n",
        "def func_a(arr, num): \r\n",
        "    ret = []\r\n",
        "    for i in arr:\r\n",
        "        if i != num:\r\n",
        "            ret.append(i)\r\n",
        "    return ret\r\n",
        "\r\n",
        "def func_b(a, b):\r\n",
        "    if a >= b:\r\n",
        "        return a - b\r\n",
        "    else:\r\n",
        "        return b - a\r\n",
        "\r\n",
        "def func_c(arr):\r\n",
        "    ret = -1\r\n",
        "    for i in arr:\r\n",
        "        if ret < i:\r\n",
        "            ret = i\r\n",
        "    return ret\r\n",
        "\r\n",
        "def solution(visitor):  \r\n",
        "    max_first = func_c(visitor)\r\n",
        "    visitor_removed = func_a(visitor, max_first)\r\n",
        "    max_second = func_c(visitor_removed)\r\n",
        "    answer = func_b(max_first, max_second)\r\n",
        "    return answer\r\n",
        "\r\n",
        "visitor = [1,3,2,4,5,3,6,3,7,4,5,7]\r\n",
        "solution(visitor)"
      ],
      "execution_count": null,
      "outputs": [
        {
          "output_type": "execute_result",
          "data": {
            "text/plain": [
              "1"
            ]
          },
          "metadata": {
            "tags": []
          },
          "execution_count": 36
        }
      ]
    },
    {
      "cell_type": "code",
      "metadata": {
        "colab": {
          "base_uri": "https://localhost:8080/"
        },
        "id": "MJ5GI4G99ZGS",
        "outputId": "1bbed47e-51b0-4124-e3b2-0289c700852d"
      },
      "source": [
        "#02-04\r\n",
        "def solution(scores):\r\n",
        "    grade_counter = [ 0 for i in range(5) ]\r\n",
        "    for i in scores:\r\n",
        "        if i >= 85:\r\n",
        "            grade_counter[0] += 1\r\n",
        "        elif i >= 70:\r\n",
        "            grade_counter[1] += 1\r\n",
        "        elif i >= 55:\r\n",
        "            grade_counter[2] += 1\r\n",
        "        elif i >= 40:\r\n",
        "            grade_counter[3] += 1\r\n",
        "        else:\r\n",
        "            grade_counter[4] += 1\r\n",
        "    return grade_counter\r\n",
        "\r\n",
        "scores = [10,20,30,40,50,60,70,80,90,100]\r\n",
        "solution(scores)"
      ],
      "execution_count": null,
      "outputs": [
        {
          "output_type": "execute_result",
          "data": {
            "text/plain": [
              "[2, 2, 1, 2, 3]"
            ]
          },
          "metadata": {
            "tags": []
          },
          "execution_count": 35
        }
      ]
    },
    {
      "cell_type": "code",
      "metadata": {
        "colab": {
          "base_uri": "https://localhost:8080/"
        },
        "id": "6mWGSc-19ZPR",
        "outputId": "e8bc60a5-a5de-4cf6-a184-a14dcd5c30e9"
      },
      "source": [
        "#02-05\r\n",
        "def func_a(arr):\r\n",
        "    counter = [0 for _ in range(1001)]\r\n",
        "    for i in arr:\r\n",
        "        counter[i] += 1                 \r\n",
        "    return counter\r\n",
        "\r\n",
        "def func_b(arr):\r\n",
        "    ret = 0\r\n",
        "    for i in arr:  \r\n",
        "        if ret < i:      \r\n",
        "            ret = i    \r\n",
        "    return ret\r\n",
        "\r\n",
        "def func_c(arr):\r\n",
        "    ret = func_b(arr)\r\n",
        "    for i in arr:\r\n",
        "        if i !=0 and ret > i:\r\n",
        "            ret = i\r\n",
        "    return ret\r\n",
        "\r\n",
        "def solution(arr):\r\n",
        "    counter = func_a( arr )\r\n",
        "    max_cnt = func_b( counter )\r\n",
        "    min_cnt = func_c( counter )\r\n",
        "    print(max_cnt , min_cnt)\r\n",
        "    return max_cnt // min_cnt\r\n",
        "\r\n",
        "arr = [1,2,3,1,1,2,1,2,1,2,3,1,1,1,1,1]\r\n",
        "solution(arr)"
      ],
      "execution_count": null,
      "outputs": [
        {
          "output_type": "stream",
          "text": [
            "10 2\n"
          ],
          "name": "stdout"
        },
        {
          "output_type": "execute_result",
          "data": {
            "text/plain": [
              "5"
            ]
          },
          "metadata": {
            "tags": []
          },
          "execution_count": 37
        }
      ]
    },
    {
      "cell_type": "code",
      "metadata": {
        "colab": {
          "base_uri": "https://localhost:8080/"
        },
        "id": "qwhY10rb9ZVw",
        "outputId": "4dbfce9a-14c5-433e-d99d-af408e9ce68a"
      },
      "source": [
        "#02-06\r\n",
        "def solution(weight, k):\r\n",
        "    answer = 0\r\n",
        "    for w in weight:\r\n",
        "        if w > k: \r\n",
        "            answer += 1\r\n",
        "    return answer\r\n",
        "\r\n",
        "weights = [65,70,75,80,84]\r\n",
        "solution(weights, 70)"
      ],
      "execution_count": null,
      "outputs": [
        {
          "output_type": "execute_result",
          "data": {
            "text/plain": [
              "3"
            ]
          },
          "metadata": {
            "tags": []
          },
          "execution_count": 38
        }
      ]
    },
    {
      "cell_type": "code",
      "metadata": {
        "colab": {
          "base_uri": "https://localhost:8080/",
          "height": 35
        },
        "id": "7mCuIuhG9Zbh",
        "outputId": "b7bdf3a0-3f39-48d2-b254-050d08dcf897"
      },
      "source": [
        "#02-07\r\n",
        "def solution(s):\r\n",
        "    answer = []\r\n",
        "    for c in s:\r\n",
        "        if '0' <= c <= '9':\r\n",
        "            n = ord('i')-ord(c)\r\n",
        "            c = chr(n)\r\n",
        "        answer.append(c)\r\n",
        "    return ''.join(answer)\r\n",
        "\r\n",
        "s = \"ab1c3d\"\r\n",
        "solution(s)"
      ],
      "execution_count": null,
      "outputs": [
        {
          "output_type": "execute_result",
          "data": {
            "application/vnd.google.colaboratory.intrinsic+json": {
              "type": "string"
            },
            "text/plain": [
              "'ab8c6d'"
            ]
          },
          "metadata": {
            "tags": []
          },
          "execution_count": 39
        }
      ]
    },
    {
      "cell_type": "code",
      "metadata": {
        "colab": {
          "base_uri": "https://localhost:8080/"
        },
        "id": "CgLcqWop9t-y",
        "outputId": "dcd8618d-1a99-414e-b58d-7819b830b74c"
      },
      "source": [
        "#02-08\r\n",
        "def solution(name_list):\r\n",
        "    answer = 0\r\n",
        "    for name in name_list:\r\n",
        "        for char in name:\r\n",
        "            if char.find('A') > -1 or char.find('K') > -1:\r\n",
        "                answer += 1\r\n",
        "                break\r\n",
        "    return answer\r\n",
        "\r\n",
        "names = ['Adios', \"Kickboard Association\", \"google\"]\r\n",
        "solution(names)"
      ],
      "execution_count": null,
      "outputs": [
        {
          "output_type": "execute_result",
          "data": {
            "text/plain": [
              "2"
            ]
          },
          "metadata": {
            "tags": []
          },
          "execution_count": 40
        }
      ]
    },
    {
      "cell_type": "code",
      "metadata": {
        "colab": {
          "base_uri": "https://localhost:8080/"
        },
        "id": "QhblF2gZ9uD1",
        "outputId": "c1557461-698e-42c2-efc7-9225fb8d08ba"
      },
      "source": [
        "#02-09\r\n",
        "def solution(orders):\r\n",
        "    answer = 0\r\n",
        "    size = 0\r\n",
        "    for o in orders:\r\n",
        "        for i in range(6):\r\n",
        "            if o[i] != 0:\r\n",
        "                size += ((i+1)**2)*(o[i])\r\n",
        "    print( size , size // 36)\r\n",
        "    answer = size // 36\r\n",
        "    if size % 36 != 0:\r\n",
        "        answer += 1\r\n",
        "    return answer\r\n",
        "    \r\n",
        "orders = [ [0, 0, 4, 0, 1, 1], [7, 5, 1, 0, 1, 0] ] \r\n",
        "solution(orders)"
      ],
      "execution_count": null,
      "outputs": [
        {
          "output_type": "stream",
          "text": [
            "158 4\n"
          ],
          "name": "stdout"
        },
        {
          "output_type": "execute_result",
          "data": {
            "text/plain": [
              "5"
            ]
          },
          "metadata": {
            "tags": []
          },
          "execution_count": 41
        }
      ]
    },
    {
      "cell_type": "code",
      "metadata": {
        "colab": {
          "base_uri": "https://localhost:8080/",
          "height": 71
        },
        "id": "MJN9qFuR9uT8",
        "outputId": "115c40fc-a296-4684-cc2b-3727138e2c37"
      },
      "source": [
        "#02-10\r\n",
        "def sum_isbn(isbn):\r\n",
        "    print(isbn)\r\n",
        "    sum = 0\r\n",
        "    for i in range(len(isbn)):\r\n",
        "        c = int(isbn[i])\r\n",
        "        if i % 2: \r\n",
        "            w = 3\r\n",
        "        else: \r\n",
        "            w = 1\r\n",
        "        sum += w * c\r\n",
        "    return sum\r\n",
        "\r\n",
        "def solution(isbn):\r\n",
        "    print(isbn)\r\n",
        "    answer = ''\r\n",
        "    sum = sum_isbn( isbn[:-1] )\r\n",
        "    r = 10 - (sum % 10)\r\n",
        "    if r == 10: \r\n",
        "        answer = '0'\r\n",
        "    else:\r\n",
        "        answer = str(r)\r\n",
        "    return answer\r\n",
        "\r\n",
        "solution('9788970508122')"
      ],
      "execution_count": null,
      "outputs": [
        {
          "output_type": "stream",
          "text": [
            "9788970508122\n",
            "978897050812\n"
          ],
          "name": "stdout"
        },
        {
          "output_type": "execute_result",
          "data": {
            "application/vnd.google.colaboratory.intrinsic+json": {
              "type": "string"
            },
            "text/plain": [
              "'2'"
            ]
          },
          "metadata": {
            "tags": []
          },
          "execution_count": 42
        }
      ]
    }
  ]
}