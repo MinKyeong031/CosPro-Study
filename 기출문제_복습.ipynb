{
  "nbformat": 4,
  "nbformat_minor": 0,
  "metadata": {
    "colab": {
      "name": "기출문제(2104 김민경).ipynb",
      "private_outputs": true,
      "provenance": [],
      "collapsed_sections": [],
      "include_colab_link": true
    },
    "kernelspec": {
      "name": "python3",
      "display_name": "Python 3"
    }
  },
  "cells": [
    {
      "cell_type": "markdown",
      "metadata": {
        "id": "view-in-github",
        "colab_type": "text"
      },
      "source": [
        "<a href=\"https://colab.research.google.com/github/MinKyeong031/CosPro-Study/blob/main/%EA%B8%B0%EC%B6%9C%EB%AC%B8%EC%A0%9C(2104_%EA%B9%80%EB%AF%BC%EA%B2%BD).ipynb\" target=\"_parent\"><img src=\"https://colab.research.google.com/assets/colab-badge.svg\" alt=\"Open In Colab\"/></a>"
      ]
    },
    {
      "cell_type": "markdown",
      "metadata": {
        "id": "C0ZeLjy8StU4"
      },
      "source": [
        "문제1\r\n",
        "\r\n",
        "A학교에서는 단체 티셔츠를 주문하기 위해 학생 별로 원하는 티셔츠를 조사했습니다. \r\n",
        "선택할 수 있는 티셔츠 사이즈는 작은순서대로 “XS”,  “S”,   “ M”,  “ L”,  “ XL”,  “ XXL” 총 6종류가 있습니다.\r\n",
        "학생 별로 원하는 티셔츠 사이즈를 조사한 결과가 들어있는 리스트 shirt_size가 매개변수로 주어질 때, 사이즈 별로 티셔츠가 몇 벌씩 필요한지 가장 작은 사이즈부터 순서대로 리스트에 담아 return 하도록 solution 함수를 완성해 주세요.\r\n",
        "\r\n",
        "\r\n"
      ]
    },
    {
      "cell_type": "code",
      "metadata": {
        "id": "LBrwHwKHNaWE"
      },
      "source": [
        "def solution(shirt_size):\r\n",
        "  answer = [0 for _ in range(6)]\r\n",
        "  for size in shirt_size:\r\n",
        "    if size == \"XS\":\r\n",
        "      answer[0] += 1\r\n",
        "    elif size == \"S\":\r\n",
        "      answer[1] += 1\r\n",
        "    elif size == \"M\":\r\n",
        "      answer[2] += 1\r\n",
        "    elif size == \"L\":\r\n",
        "      answer[3] += 1\r\n",
        "    elif size == \"XL\":\r\n",
        "      answer[4] += 1\r\n",
        "    elif size == \"XXL\":\r\n",
        "      answer[5] += 1\r\n",
        "\treturn answer"
      ],
      "execution_count": null,
      "outputs": []
    },
    {
      "cell_type": "markdown",
      "metadata": {
        "id": "BlISgTfmM61w"
      },
      "source": [
        "문제2\r\n",
        "\r\n",
        "A 쇼핑몰에서는 회원 등급에 따라 할인 서비스를 제공합니다. 회원 등급에 따른 할인율은 다음과 같습니다. (S=실버, G=골드, V=VIP)\r\n",
        "상품의 가격 price와 구매자의 회원 등급을 나타내는 문자열 grade가 매개변수로 주어질 때, 할인 서비스를 적용한 가격을 return 하도록  solution 함수를 완성해 주세요.  price는 100이상 100,000이하의 100단위 자연수\r\n",
        "\r\n",
        "\r\n",
        "\r\n",
        "![그림1.png](data:image/png;base64,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)\r\n",
        "\r\n"
      ]
    },
    {
      "cell_type": "code",
      "metadata": {
        "id": "ip3-PAS6U2_n"
      },
      "source": [
        "def solution(price, grade):\r\n",
        "  answer = 0\r\n",
        "  if grade == \"S\":\r\n",
        "    answer = int(price * 0.95)\r\n",
        "  elif grade == \"G\":\r\n",
        "    answer = int(price * 0.9)\r\n",
        "  elif grade == \"V\":\r\n",
        "    answer = int(price * 0.85)\r\n",
        "  return answer"
      ],
      "execution_count": null,
      "outputs": []
    },
    {
      "cell_type": "markdown",
      "metadata": {
        "id": "CoIdYSorUpON"
      },
      "source": [
        "문제3\r\n",
        "\r\n",
        "시작 날짜와 끝 날짜가 주어질 때, 두 날짜가 며칠만큼 떨어져 있는지(D-day)를 구하려 합니다. 이를 위해 다음과 같이 3단계로 간단히 프로그램 구조를 작성했습니다.(단, 윤년은 고려하지 않습니다.)\r\n",
        "\r\n",
        "1단계 : 시작 날짜가 1월 1일로부터 며칠만큼 떨어져 있는지 구합니다. \r\n",
        "\r\n",
        "2단계 : 끝 날짜가 1월 1일로부터 며칠만큼 떨어져 있는지 구합니다.\r\n",
        "\r\n",
        "3단계 : (2단계에서구한 날짜) – (1단계에서 구한 날짜)를 구합니다.\r\n",
        "\r\n",
        "시작 날짜의 월, 일을 나타내는 startmonth, startday, 끝 날짜의 월, 일을 나타내는 endmonth, endday가 매개변수로 주어질 때, 시작 날짜와 끝 날짜가 며칠 만큼 떨어져 있는지 return 하도록 solution 함수를 작성했습니다. 이때 위 구조를 참고하여 중복되는 부분은 func_a라는 함수로 작성했습니다.  코드가 올바르게 동작할 수 있도록 빈칸을 알맞게 채워주세요.\r\n"
      ]
    },
    {
      "cell_type": "code",
      "metadata": {
        "id": "hO_0ug9C-WX-"
      },
      "source": [
        "#문제3\r\n",
        "def func_a(month, day):\r\n",
        "    month_list = [31, 28, 31, 30, 31, 30, 31, 31, 30, 31, 30, 31]\r\n",
        "    total = 0;\r\n",
        "    for i in range(month-1):\r\n",
        "        total += month_list[i]\r\n",
        "    total += day\r\n",
        "    return total - 1\r\n",
        "        \r\n",
        "def solution(start_month, start_day, end_month, end_day):\r\n",
        "    start_total = func_a(start_month, start_day)\r\n",
        "    end_total = func_a(end_month, end_day)\r\n",
        "    return end_total - start_total\r\n",
        "\r\n",
        "# 아랫부분은 실제 시험에서는 코드 작성을 하지 않아도 됩니다.\r\n",
        "start_month = 1\r\n",
        "start_day = 31\r\n",
        "end_month = 2\r\n",
        "end_day = 2\r\n",
        "ret = solution(start_month, start_day, end_month, end_day)"
      ],
      "execution_count": null,
      "outputs": []
    },
    {
      "cell_type": "markdown",
      "metadata": {
        "id": "O5RsIvGZU0zu"
      },
      "source": [
        "문제4\r\n",
        "\r\n",
        "자연수가 들어있는 리스트가 있습니다. 이 리스트에서 가장 많이 등장하는 숫자의 개수는 가장 적게 등장하는 숫자 개수의 몇배인지 구하려 합니다. 이를 위해 다음과 같이 간단히 프로그램 구조를 작성했습니다.\r\n",
        "\r\n",
        "1단계 : 리스트에 들어있는 각 자연수의 개수를 셉니다.\r\n",
        "\r\n",
        "2단계: 가장 많이 등장하는 수의 개수를 구합니다.\r\n",
        "\r\n",
        "3단계: 가장 적게 등장하는 수의 개수를 구합니다.\r\n",
        "\r\n",
        "4단계: 가장 많이 등장하는 수가 가장 적게 등장하는 수보다 몇 배 더 많은지 구합니다.\r\n",
        "\r\n",
        "단,  몇 배 더 많은지 구할 때는 소수 부분은 버리고 정수 부분만 구하면 됩니다.\r\n",
        "자연수가 들어있는 리스트 arr이 매개변수로 주어질 때, 가장 많이 등장하는 숫자가 가장 적게 등장하는 숫자보다 몇배 더 많은지 return 하도록 solution하수를 작성하려 합니다. 위 구조를 참고하여 코드가 올바르게 동작할 수 있도록 빈칸에 주어진 func_a, func_b,  func_c함수와 매개변수를 알맞게 채워주세요.\r\n",
        "매개변수 :   arr 길이는 3이상 1,000이하이며, 1이상 1,000이하의 자연수가 들어 있습니다.\r\n"
      ]
    },
    {
      "cell_type": "code",
      "metadata": {
        "id": "-jzpcEgsAatu"
      },
      "source": [
        "#4번\r\n",
        "def func_a(arr):\r\n",
        "    counter = [0 for _ in range(1001)]\r\n",
        "    for x in arr:\r\n",
        "        counter[x] += 1\r\n",
        "    return counter\r\n",
        "\r\n",
        "def func_b(arr):\r\n",
        "    ret = 0\r\n",
        "    for x in arr:\r\n",
        "        if ret < x:\r\n",
        "            ret = x\r\n",
        "    return ret\r\n",
        "\r\n",
        "def func_c(arr):\r\n",
        "    ret = 1001\r\n",
        "    for x in arr:\r\n",
        "        if x != 0 and ret > x:\r\n",
        "            ret = x\r\n",
        "    return ret\r\n",
        "\r\n",
        "def solution(arr):\r\n",
        "    counter = func_a(arr)\r\n",
        "    max_cnt = func_b(counter)\r\n",
        "    min_cnt = func_c(counter)\r\n",
        "    return max_cnt // min_cnt\r\n",
        "\r\n",
        "#아래는 테스트케이스 출력을 해보기 위한 코드입니다.\r\n",
        "arr = [1, 2, 3, 3, 1, 3, 3, 2, 3, 2]\r\n",
        "ret = solution(arr)"
      ],
      "execution_count": null,
      "outputs": []
    },
    {
      "cell_type": "markdown",
      "metadata": {
        "id": "9pSsiWaHXOO1"
      },
      "source": [
        "문제5\r\n",
        "\r\n",
        "주어진 리스트의 순서를 뒤집으려고 합니다. 예를 들어 주어진 리스트가 [1,4,2,3]이면, 순서를 뒤집은 리스트는 [3,2,4,1]입니다. 정수가 들어있는 리스트 arr이 매개변수로 주어졌을 때, arr을 뒤집어서 return 하도록 solution하수를 작성하려 합니다.  빈칸을 채워 전체 코드를 완성해 주세요.\r\n",
        "\r\n",
        "매개변수 설명\r\n",
        "arr길이는 1이상 100이하이면, 저장되는 요소의 값은 -100이상 100 이하 정수\r\n",
        "\r\n"
      ]
    },
    {
      "cell_type": "code",
      "metadata": {
        "id": "Lm35FEO1MrLP"
      },
      "source": [
        "def solution(arr):\r\n",
        "    left, right = 0, len(arr)-1\r\n",
        "    while left < right:\r\n",
        "        arr[left], arr[right] = arr[right], arr[left]\r\n",
        "        left += 1\r\n",
        "        right -= 1\r\n",
        "    return arr\r\n",
        "\r\n",
        "\r\n",
        "#아래는 테스트케이스 출력을 해보기 위한 코드입니다.\r\n",
        "arr = [1, 4, 2, 3]\r\n",
        "ret = solution(arr)\r\n"
      ],
      "execution_count": null,
      "outputs": []
    },
    {
      "cell_type": "markdown",
      "metadata": {
        "id": "OCTeAl6_VVe-"
      },
      "source": [
        "문제6\r\n",
        "\r\n",
        "369게임은 여러 명이 같이하는 게임입니다. 게임의 규칙은 아래와 같습니다. 1부터 시작합니다. 한사람 씩 차례대로 숫자를 1씩 더해가며 말합니다. 말해야 하는 숫자에 3,6,9중 하나라도 포함되어 있다면 숫자를 말하는 대신 숫자에 포함된 3,6,9 의 개수만큼 손뼉을 칩니다. \r\n",
        "\r\n",
        "어떤 수 number가 매개변수로 주어질 때, 1부터 number까지 369게임을 올바르게 진행했을 경우 박수를 총  몇 번  쳤는 지를 return 하도록 solution함수를 작성하려 합니다. 빈칸을 채워 전체 코드를 완성해 주세요.\r\n",
        "매개변수 설명 :   number 는 10이상 1,000이하의 자연수\r\n"
      ]
    },
    {
      "cell_type": "code",
      "metadata": {
        "id": "xOvLDhVbNZ7z"
      },
      "source": [
        "\r\n",
        "def solution(number):\r\n",
        "    count = 0\r\n",
        "    for i in range(1, number+1): # i->1 ~ 20\r\n",
        "        current = i\r\n",
        "        temp = count\r\n",
        "        while current != 0:\r\n",
        "            if current % 10 == 3 or current % 10 == 6 or current % 10 == 9:\r\n",
        "                count += 1\r\n",
        "                print(\"짝\", end = '')\r\n",
        "            current = current // 10\r\n",
        "        if temp == count:\r\n",
        "            print(i, end = '')\r\n",
        "        print(\" \", end = '')\r\n",
        "    print(\"\")\r\n",
        "    return count\r\n",
        "\r\n",
        "\r\n",
        "#아래는 테스트케이스 출력을 해보기 위한 코드입니다.\r\n",
        "number = 60\r\n",
        "ret = solution(number)"
      ],
      "execution_count": null,
      "outputs": []
    },
    {
      "cell_type": "markdown",
      "metadata": {
        "id": "9iuEn9-0Vhv0"
      },
      "source": [
        "문제7\r\n",
        "\r\n",
        "A대학에서는 수준별 영어 강의를 제공하고 있습니다. 초급 영어 강의는 토익시험에서 650점 이상 800점 미만의 성적을 취득한 학생만을 수강 대상으로 하고 있습니다. 초급영어강의에 수강 신청한 사람이 10명일 때, 이중에서 몇 명이 수강 대상에 해당하는지 확인하려 합니다.\r\n",
        "]\r\n",
        "  수강신청자들의 토익 성적이 들어있는 리스트 scores가 매개변수로 주어질 때, 수강 대상자들의 인원수를 return 하도록 solution함수를 작성했습니다. 그러나, 코드 일부분이 잘못 되었기 때문에, 몇몇 입력에 대해서는 올바르게 동작하지 않습니다. 주어진 코드에서 한 줄만 변경해서 모든 입력에 대해 올바르게 동작하도록 수정해 주세요.\r\n"
      ]
    },
    {
      "cell_type": "code",
      "metadata": {
        "id": "9C33JqRuWvHo"
      },
      "source": [
        "#문제7\r\n",
        "def solution(scores):\r\n",
        "    count = 0\r\n",
        "    for s in scores:\r\n",
        "        if 650 <= s and s < 800:\r\n",
        "            count += 1\r\n",
        "    return count\r\n",
        "\r\n",
        "#아래는 테스트케이스 출력을 해보기 위한 코드입니다. 아래 코드는 잘못된 부분이 없으니, solution함수만 수정하세요.\r\n",
        "scores = [650, 722, 914, 558, 714, 803, 650, 679, 669, 800]\r\n",
        "ret = solution(scores)"
      ],
      "execution_count": null,
      "outputs": []
    },
    {
      "cell_type": "markdown",
      "metadata": {
        "id": "bW7TQlBXVuhe"
      },
      "source": [
        "문제8\r\n",
        "\r\n",
        "앞에서부터 읽을 때와 뒤에서부터 읽을 때 똑같은 단어 또는 문장을 팰린드롬이라고 합니다. 예를 들어 racecar, noon 은 팰린드롬 단어 입니다. 소문자 알파벳, 공백(“  “), 그리고 마침표(“.”)로 이루어진 문장이 팰린드롬 문장인지 점검하려 합니다. 문장 내에서 알파벳만 추출하였을 때에 팰린드롬 단어이면 팰린드롬 문장입니다. 예를 들어 “never odd or even.”과 같은 문장은 팰린드롬입니다.  소문자 알파벳,  공백(“  “), 그리고 마침표(“.”)로 이루어진 문장 sentence가 주어질 때 필린드롬인지 아니지를 return하도록 solution함수를 작성했습니다. 그러나, 코드 일부분이 잘못되었기 때문에 , 몇몇 입력에 대해서는 올바르게 동작하지 않습니다. 주어진 코드에서 한 줄만 변경해서 모든 입력에 대해 올바르게 동작하도록 수정해 주세요.\r\n"
      ]
    },
    {
      "cell_type": "code",
      "metadata": {
        "id": "CTFvlG6sX_oX"
      },
      "source": [
        "#문제8\r\n",
        "def solution(sentence):\r\n",
        "    str = ''\r\n",
        "    for c in sentence:\r\n",
        "        if c != '.' and c != ' ':\r\n",
        "            str += c\r\n",
        "    size = len(str)\r\n",
        "    for i in range(size // 2):\r\n",
        "        if str[i] != str[size - 1 - i]:\r\n",
        "            return False\r\n",
        "    return True\r\n",
        "\r\n",
        "#아래는 테스트케이스 출력을 해보기 위한 코드입니다. 아래 코드는 잘못된 부분이 없으니, solution함수만 수정하세요.\r\n",
        "sentence1 = \"never odd or even.\"\r\n",
        "ret1 = solution(sentence1)\r\n",
        "\r\n",
        "#[실행] 버튼을 누르면 출력 값을 볼 수 있습니다.\r\n",
        "print(\"solution 함수의 반환 값은\", ret1, \"입니다.\")\r\n",
        "    \r\n",
        "sentence2 = \"palindrome\"\r\n",
        "ret2 = solution(sentence2)"
      ],
      "execution_count": null,
      "outputs": []
    },
    {
      "cell_type": "markdown",
      "metadata": {
        "id": "LioHOfbbV3QP"
      },
      "source": [
        "문제9\r\n",
        "\r\n",
        "알파벳 문자열이 주어질 때, 연속하는 중복 문자를 삭제하려고 합니다. 예를 들어 ,  “senteeeen cccccceeee”라는 문자열이 주어진다면  “ sentence”라는 결과물이 나옵니다.  영어 소문자 알파벳으로 이루어진 임의의 문자열 characters가 매개변수로 주어질 때, 연속하는 중복 문자들을 삭제한 결과를 return 하도록 solution 함수를 작성하였습니다. 그러나, 코드 일부분이 잘못되었기 때문에 , 몇몇 입력에 대해서는 올바르게 동작하지 않습니다. 주어진 코드에서 한 줄만 변경해서 모든 입력에 대해 올바르게 동작하도록 수정해 주세요.\r\n"
      ]
    },
    {
      "cell_type": "code",
      "metadata": {
        "id": "Hi4tpSlMMpoz"
      },
      "source": [
        "#문제9\r\n",
        "def solution(characters):\r\n",
        "    result = \"\"\r\n",
        "    result += characters[0]\r\n",
        "    for i in range(1, len(characters)):\r\n",
        "        if characters[i - 1] != characters[i]:\r\n",
        "            result += characters[i]\r\n",
        "    return result\r\n",
        "\r\n",
        "\r\n",
        "#아래는 테스트케이스 출력을 해보기 위한 코드입니다. 아래 코드는 잘못된 부분이 없으니, solution함수만 수정하세요.\r\n",
        "characters = \"seenteeeencccccceeee\"\r\n",
        "ret = solution(characters)"
      ],
      "execution_count": null,
      "outputs": []
    },
    {
      "cell_type": "markdown",
      "metadata": {
        "id": "sMpawyfnV_nY"
      },
      "source": [
        "문제10\r\n",
        "\r\n",
        "평균은 자료의 합을 자료의 개수로 나눈 값을 의미합니다. 자연수가 들어 있는 리스트의 평균을 구하고, 평균 이하인 숫자는 몇 개 있는지 구하려 합니다. 예를 들어 주어진 리스트가 [1,2,3,4,5,6,7,8,9,10]이라면, 평균은 5.5이므로 리스트에서 평균 이하인 값은 5개 입니다. 자연수가 들어 있는 리스트 data가 매개변수로 주어질 때 리스트에 평균 이하인 값은 몇 개인지 return 하도록 solution 함수를 작성했습니다. 그러나, 코드 일부분이 잘못되었기 때문에 , 몇몇 입력에 대해서는 올바르게 동작하지 않습니다. 주어진 코드에서 한 줄만 변경해서 모든 입력에 대해 올바르게 동작하도록 수정해 주세요.\r\n"
      ]
    },
    {
      "cell_type": "code",
      "metadata": {
        "id": "USDU2-21aT8X"
      },
      "source": [
        "#문제10\r\n",
        "def solution(data):\r\n",
        "    total = sum(data)\r\n",
        "    average =  total/ len(data)\r\n",
        "    cnt = 0\r\n",
        "    for d in data:\r\n",
        "        if d <= average:\r\n",
        "            cnt += 1\r\n",
        "    return cnt\r\n",
        "\r\n",
        "\r\n",
        "#아래는 테스트케이스 출력을 해보기 위한 코드입니다. 아래 코드는 잘못된 부분이 없으니, solution함수만 수정하세요.\r\n",
        "data1 = [1, 2, 3, 4, 5, 6, 7, 8, 9, 10]\r\n",
        "ret1 = solution(data1)"
      ],
      "execution_count": null,
      "outputs": []
    },
    {
      "cell_type": "markdown",
      "metadata": {
        "id": "pOcq02AQWIvI"
      },
      "source": [
        "문제11\r\n",
        "두 자연수 n부터 m까지의 합을 구하려고 합니다. 이를 위해 다음과 같이 3단계로 간단히 프로그램 구조를 작성했습니다.\r\n",
        "\r\n",
        "1부터 m까지의 합을 구합니다.\r\n",
        "\r\n",
        "1부터 n-1까지의 합을 구합니다.\r\n",
        "\r\n",
        "1단계에서구한 값에서 2단계에서 구한 값을 뺍니다.\r\n",
        "\r\n",
        "두 자연수 n과 m이 매개변수로 주어질 때, n부터 m까지의 합을 return 하도록 solution함수를 작성했습니다. 이때 위 구조를 참고하여 중복되는 부분은 func_a라는 함수로 작성했습니다. 코드가 올바르게 동작할 수 있도록 빈칸을 알맞게 채워주세요.\r\n"
      ]
    },
    {
      "cell_type": "code",
      "metadata": {
        "id": "V-hQrbimd-zu"
      },
      "source": [
        "#문제11\r\n",
        "def func_a(k):\r\n",
        "    sum = 0\r\n",
        "    for i in range(k+1):\r\n",
        "        sum += int\r\n",
        "        return sum\r\n",
        "\r\n",
        "def solution(n, m):\r\n",
        "    sum_to_m = func_a(m)\r\n",
        "    sum_to_n = func_a(n-1)\r\n",
        "    answer = sum_to_m - sum_to_n\r\n",
        "    return answer\r\n",
        "\r\n",
        "#아래는 테스트케이스 출력을 해보기 위한 코드입니다.\r\n",
        "ret = solution(5, 6)"
      ],
      "execution_count": null,
      "outputs": []
    },
    {
      "cell_type": "markdown",
      "metadata": {
        "id": "99_93J4yW3jc"
      },
      "source": [
        "문제12\r\n",
        "\r\n",
        "한 학생의 과목별 점수가 들어있는 리스트가 주어졌을 때, 이 학생의 최고 점수와 최저 점수를 제외한 나머지 점수들의 합계를 구하려 합니다. 이를 위해 다음과 같이 4단계로 프로그램 구조를 작성했습니다.\r\n",
        "\r\n",
        "모든 과목 점수의 합을 구합니다.\r\n",
        "\r\n",
        "최고 점수를 구합니다.\r\n",
        "\r\n",
        "최저 점수를 구합니다.\r\n",
        "\r\n",
        "(모든 과목 점수의 합) – (최고 점수) –(최저 점수) 의 값을 return 합니다.\r\n",
        "\r\n",
        "학생의 과목별 점수가 들어 있는 리스트 scores가 매개변수로 주어질 때, 학생의 과목별 점수에서 최고 점수와 최저 점수를 제외한 나머지 점수의 합을 return 하도록 solution 함수를 작성 하려합니다. 위 구조를 참고하여 코드가 올바르게 동작할 수 있도록 빈칸에 주어진 func_a, func_b, func_c 함수를 알맞게 채워주세요. \r\n",
        "매개변수 설명 : scores 길이는 3이상 10이하이며 점수는 0이상 100이하 점수, 같은 점수를 받은 과목은 없습니다.\r\n"
      ]
    },
    {
      "cell_type": "code",
      "metadata": {
        "id": "7uQl9id9mmcG"
      },
      "source": [
        "def func_a(s):  # 최고 점수 구하기\r\n",
        "    ret = 0\r\n",
        "    for i in s:\r\n",
        "        if i > ret:\r\n",
        "            ret = i\r\n",
        "    return ret\r\n",
        "\r\n",
        "def func_b(s):  # 점수들의 총합을 구함\r\n",
        "    ret = 0\r\n",
        "    for i in s:\r\n",
        "       ret += i\r\n",
        "    return ret\r\n",
        "\r\n",
        "def func_c(s):  # 최저 점수 구하기\r\n",
        "    ret = 101\r\n",
        "    for i in s:\r\n",
        "        if i < ret:\r\n",
        "            ret = i\r\n",
        "    return ret\r\n",
        "\r\n",
        "def solution(scores):\r\n",
        "    sum = func_b(scores)\r\n",
        "    max_score = func_a(scores)\r\n",
        "    min_score = func_c(scores)\r\n",
        "    return sum - max_score - min_score\r\n",
        "    \r\n",
        "#아래는 테스트케이스 출력을 해보기 위한 코드입니다.\r\n",
        "scores = [50, 90, 65, 100]\r\n",
        "ret = solution(scores)"
      ],
      "execution_count": null,
      "outputs": []
    },
    {
      "cell_type": "markdown",
      "metadata": {
        "id": "qk6hHdlJXOfT"
      },
      "source": [
        "문제13\r\n",
        "\r\n",
        "XX공항에서 N일 동안 매일 공항 방문객 수를 조사하였습니다. 이때 가장 많이 방문객 수와 두번째로 많은 방문객 수의 차이를 구하려고 합니다. 단, 방문객의 수가 같은 날은 없다고 가정합니다. 이를 위해 다음과 같이 4단계로 간단히 프로그램 구조를 작성 했습니다. \r\n",
        "입력으로 주어진 리스트에서 가장 많은 방문객 수를 찾습니다.\r\n",
        "\r\n",
        "1번 단계에서 찾은 값을 제외하고 나머지 값들로 이루어진 새로운 리스트를 만듭니다.\r\n",
        "\r\n",
        "2번 단계에서 만든 새로운 리스트에서 가장 큰 방문객의 수를 찾습니다.\r\n",
        "\r\n",
        "1번 단계와 3번 단계에서 구한 값의 차이를 구합니다.\r\n",
        "\r\n",
        "N일 동안의 방문객 수가 들어 있는 리스트 visitor가 매개변수로 주어질 때, 가장 많은 방문객 수와 두번째로 많은 방문객 수의 차이를 return 하도록 solution 함수를 작성 하려합니다. 위 구조를 참고하여 코드가 올바르게 동작할 수 있도록 빈칸에 주어진 func_a, func_b, func_c 함수를 알맞게 채워주세요. \r\n"
      ]
    },
    {
      "cell_type": "code",
      "metadata": {
        "id": "1BHa3_clnAk4"
      },
      "source": [
        "def func_a(arr, n):  \r\n",
        "    ret = []\r\n",
        "    for x in arr:\r\n",
        "        if x != n:\r\n",
        "            ret.append(x)\r\n",
        "    return ret\r\n",
        "def func_b(a, b):  \r\n",
        "    if a >= b:\r\n",
        "        return a - b\r\n",
        "def func_c(arr):   \r\n",
        "    ret = -1\r\n",
        "    for x in arr:\r\n",
        "        if ret < x:\r\n",
        "            ret = x\r\n",
        "    return ret\r\n",
        "def solution(visitor):\r\n",
        "    max_first = func_c(visitor)\r\n",
        "    visitor_removed = func_a(visitor, max_first)\r\n",
        "    max_second = func_c(visitor_removed)\r\n",
        "    answer = func_b(max_first, max_second)\r\n",
        "    return answer\r\n",
        "\r\n",
        "\r\n",
        "#아래는 테스트케이스 출력을 해보기 위한 코드입니다.\r\n",
        "visitor = [50, 20, 30, 10, 40]\r\n",
        "ret = solution(visitor)\r\n",
        "\r\n",
        "#[실행] 버튼을 누르면 출력 값을 볼 수 있습니다.\r\n",
        "print(\"solution 함수의 반환 값은\", ret, \"입니다.\")"
      ],
      "execution_count": null,
      "outputs": []
    },
    {
      "cell_type": "markdown",
      "metadata": {
        "id": "tKNK2Rq1Xfla"
      },
      "source": [
        "문제14\r\n",
        "\r\n",
        "\r\n",
        "XX학교에서는 다음과 같이 학생들의 점수에 따라 학점을 부여합니다.\r\n",
        "\r\n",
        "85점 ~ 100점 : A학점, \r\n",
        "70점 ~ 84점 : B학점, \r\n",
        "55점 ~ 69점 : C학점, \r\n",
        "40점 ~ 54점 : D학점,\r\n",
        "0점 ~ 39점 : F학점\r\n",
        "\r\n",
        "학생들의 점수가 들어 있는 배열 scores 가 매개변수로 주어질 때 A학점, B학점, C학점, D학점, F학점을 받은 학생들의 수를 배열에 순서대로 담아 return 하도록 solution 함수를 작성하려 합니다. 빈칸을 채워 전체 코드를 완성해 주세요.\r\n",
        "\r\n",
        "매개변수 설명 : scores 의 기이는 1이상 200이하, 학생들의 점수는 0점 이상 100점 이하 정수\r\n",
        "\r\n",
        "return 값 설명 : solution 함수는 [A학점 학생 수, B학점 학생 수, C학점 학생 수, D학점 학생 수, F학점 학생 수]를 순서대로 배열에 담아 return\r\n",
        "\r\n"
      ]
    },
    {
      "cell_type": "code",
      "metadata": {
        "id": "z4LaKBiCoN63"
      },
      "source": [
        "#문제14\r\n",
        "def solution(scores):\r\n",
        "    grade_counter = [0 for i in range(5)]\r\n",
        "    for x in scores:\r\n",
        "        if x >= 85:\r\n",
        "            grade_counter[0] += 1\r\n",
        "        elif x >= 70:\r\n",
        "            grade_counter[1] += 1\r\n",
        "        elif x >= 55:\r\n",
        "            grade_counter[2] += 1\r\n",
        "        elif x >= 40:\r\n",
        "            grade_counter[3] += 1\r\n",
        "        else:\r\n",
        "            grade_counter[4] += 1\r\n",
        "            \r\n",
        "    return grade_counter\r\n",
        "\r\n",
        "#아래는 테스트케이스 출력을 해보기 위한 코드입니다.\r\n",
        "scores = [50, 95, 70, 65, 90, 80, 60]\r\n",
        "ret = solution(scores)\r\n",
        "\r\n",
        "#[실행] 버튼을 누르면 출력 값을 볼 수 있습니다.\r\n",
        "print(\"solution 함수의 반환 값은\", ret, \"입니다.\")\r\n"
      ],
      "execution_count": null,
      "outputs": []
    },
    {
      "cell_type": "markdown",
      "metadata": {
        "id": "7PZW5SvkYeMJ"
      },
      "source": [
        "문제15\r\n",
        "\r\n",
        "개구리가 일정한 간격으로 일렬로 놓여있는 징검다리를 건너려고 합니다. 징검다리에는 자연수가 적혀있으면 개구리는 자신이 밟고 있는 징검다리에 적혀있는 숫자만큼 앞쪽으로 점프해야 합니다. 개구리는 현재 첫번째 징검다리 위에 앉아 있습니다.  \r\n",
        "\r\n",
        "징검다리에 적혀 있는 숫자가 첫 번째 부터 순서대로 들어 있는 배열 stones가 매개변수로 주어질 때, 개구리가 징검다리를 모두 건너기 위해 필요한 점프 횟수를 return 하도록 solution 함수를 작성 하려합니다. 빈칸을 채워 전체 코드를 완성해 주세요.\r\n",
        "\r\n",
        "매개변수 설명 : stones 배열 길이는 1이상 100이하, stones의 원소(돌에 적혀있는 숫자)는 1이상 5이하 자연수\r\n"
      ]
    },
    {
      "cell_type": "code",
      "metadata": {
        "id": "NZ1xDvwyolSG"
      },
      "source": [
        "def solution(stones):\r\n",
        "    cnt = 0\r\n",
        "    current = 0\r\n",
        "    n = len(stones)\r\n",
        "    while current < n:\r\n",
        "        current += stones[current]\r\n",
        "        cnt += 1\r\n",
        "    return cnt\r\n",
        "\r\n",
        "#아래는 테스트케이스 출력을 해보기 위한 코드입니다.\r\n",
        "stones = [2, 5, 1, 3, 2, 1]\r\n",
        "ret = solution(stones)\r\n",
        "\r\n",
        "#[실행] 버튼을 누르면 출력 값을 볼 수 있습니다.\r\n",
        "print(\"solution 함수의 반환 값은\", ret, \"입니다.\")"
      ],
      "execution_count": null,
      "outputs": []
    },
    {
      "cell_type": "markdown",
      "metadata": {
        "id": "Iogjy_R3YyN_"
      },
      "source": [
        "문제16\r\n",
        "\r\n",
        "학생들의 키가 들어 있는 목록에서 키가 k보다 큰사람은 몇 명인지 구하려 합니다. 예를 들어 다음과 같은 목록에서 키가 175보다 큰 사람은 2명 입니다.\r\n",
        "\r\n",
        "학생의 키가 들어있는 배열 height와 k값이 매개변수로 주어졌을 때, k 보다 키가 큰 학생의 수를 세서 return 하도록 solution 함수를 작성했습니다.\r\n",
        " 그러나, 코드 일부분이 잘못되었기 때문에 몇몇 입력에 대해서는 올바르게 동작하지 않습니다.  주어진 코드에서 한 줄만 변경해서 모든 입력에 대해 올바르게 동작하도록 수정하세요.\r\n",
        " \r\n",
        "매개변수 설명 : height 길이는 1이상 100이하, 학생들이 키는 100이상 300이하의 자연수, k는 100이상 300이하의 자연수\r\n",
        "\r\n"
      ]
    },
    {
      "cell_type": "code",
      "metadata": {
        "id": "reM2jCRPpb6e"
      },
      "source": [
        "def solution(height, k):\r\n",
        "    answer = 0\r\n",
        "    n = len(height)\r\n",
        "    for h in height:\r\n",
        "        if h > k:\r\n",
        "            answer += 1\r\n",
        "    return answer\r\n",
        "\r\n",
        "#아래는 테스트케이스 출력을 해보기 위한 코드입니다.\r\n",
        "height = [165, 170, 175, 180, 184]\r\n",
        "k = 175\r\n",
        "ret = solution(height, k)\r\n",
        "\r\n",
        "#[실행] 버튼을 누르면 출력 값을 볼 수 있습니다.\r\n",
        "print(\"solution 함수의 반환 값은\", ret, \"입니다.\")"
      ],
      "execution_count": null,
      "outputs": []
    },
    {
      "cell_type": "markdown",
      "metadata": {
        "id": "R4XUi4JZM1ni"
      },
      "source": [
        "문제17\r\n",
        "\r\n",
        "문자열이 주어졌을 때, 문자열에서  ‘a’는 ‘z’로, ‘z’ 는 ‘a’로 바꾸려고 합니다. \r\n",
        "예를 들어 주어짐 문자열이  ‘abz‘라면   ‘zba‘라는 문자열을 만들면 됩니다. \r\n",
        "문자열 s가 매개변수로 주어졌을 때, \r\n",
        "문자열에서 ‘a’는 ‘z’로, ‘z’ 는 ‘a’로 바꾸어 return 하도록 solution 함수를 작성했습니다.\r\n",
        " 그러나, 코드 일부분이 잘못되었기 때문에 몇몇 입력에 대해서는 올바르게 동작하지 않습니다. \r\n",
        "  주어진 코드에서 한 줄만 변경해서 모든 입력에 대해 올바르게 동작하도록 수정하세요.\r\n",
        "매개변수 설명 : 문자열 s는 알파벳 소문자로만 이루어져 있으며 길이는 1이상 100이하\r\n"
      ]
    },
    {
      "cell_type": "markdown",
      "metadata": {
        "id": "1QuuJ67QM1fV"
      },
      "source": [
        ""
      ]
    },
    {
      "cell_type": "code",
      "metadata": {
        "id": "EDWiSFa-qCZf"
      },
      "source": [
        "#17번 수정전\r\n",
        "def solution(s):\r\n",
        "    s_lst = list(s)\r\n",
        "    n = len(s)\r\n",
        "    for i in range(n):\r\n",
        "        if s_lst[i] == 'a':\r\n",
        "            s_lst[i] = 'z'\r\n",
        "        elif s_lst[i] == 'z':\r\n",
        "            s_lst[i] =  'a'\r\n",
        "    return \"\".join(s_lst)\r\n",
        "\r\n",
        "\r\n",
        "#아래는 테스트케이스 출력을 해보기 위한 코드입니다.\r\n",
        "name = 'james'\r\n",
        "ret = solution(name)\r\n",
        "\r\n",
        "#[실행] 버튼을 누르면 출력 값을 볼 수 있습니다.\r\n",
        "print(\"solution 함수의 반환 값은\", ret, \"입니다.\")"
      ],
      "execution_count": null,
      "outputs": []
    },
    {
      "cell_type": "markdown",
      "metadata": {
        "id": "UOA364QEZRXS"
      },
      "source": [
        "문제18\r\n",
        "\r\n",
        "학생들의 이름이 들어있는 명단에서 이름에 j또는 k가 들어가는 학생의 수를 구하려고 합니다. \r\n",
        "예를 들어 james에는 j가 들어가 있으며, jack에는 j와 k가 모두 들어 있습니다.\r\n",
        "학생들의 이름이 들어있는 배열 name_list가 매개변수로 주어졌을 때, 이름에 j 또는 k가 들어가는 학생의 수를 세서 return 하도록 solution 함수를 작성했습니다. 그러나, 코드 일부분이 잘못되어있기 때문에, 몇몇 입력에 대해서는 올바르게 동작하지 않습니다. 주어진 코드에서 한 줄만 변경해서 모든 입력에 대해 올바르게 동작하도록 수정하세요.\r\n",
        "\r\n",
        "매개변수 설명 : name_list의 길이는 1이상 100이하, 학생들의 이름은 알파벳 소문자로만 이루어져 있으며, 길이는 1이상 20이하, 같은 이름이 중복해서 들어있지 않다.\r\n"
      ]
    },
    {
      "cell_type": "code",
      "metadata": {
        "id": "fCRfUXC9rFi2"
      },
      "source": [
        "문제18번 - 수정전\r\n",
        "def solution(name_list):\r\n",
        "    answer = 0\r\n",
        "    for name in name_list:\r\n",
        "        for n in name:\r\n",
        "            if n == 'j' or n == 'k':\r\n",
        "                answer += 1\r\n",
        "                break\r\n",
        "    return answer\r\n",
        "\r\n",
        "#아래는 테스트케이스 출력을 해보기 위한 코드입니다.\r\n",
        "names = ['james', 'kim john', 'jokin']\r\n",
        "ret = solution(names)\r\n",
        "\r\n",
        "#[실행] 버튼을 누르면 출력 값을 볼 수 있습니다.\r\n",
        "print(\"solution 함수의 반환 값은\", ret, \"입니다.\")"
      ],
      "execution_count": null,
      "outputs": []
    },
    {
      "cell_type": "markdown",
      "metadata": {
        "id": "t7WleLCUZidr"
      },
      "source": [
        "문제 19\r\n",
        "\r\n",
        "고객이 구매한 물건들의 가격과 지불 금액이 주어졌을 때, 거스름돈을 얼마나 줘야하는지 구하려 합니다.\r\n",
        "  예를 들어 구매한 물건들의 가격이 (2100, 3200, 2100, 800)이라면 총 구매금액은 8,200원입니다. 이때 고객이 10,000원을 지불했다면 1,800원을 거슬러  주면 됩니다. 고객이 구매한 물품들의 가격이 들어있는 배열 price와 지불한 금액 money가 매개변수로 주어질 때, 거슬러 줘야하는 금액을 return 하도록 solution함수를 완성해 주세요. \r\n",
        "  \r\n",
        "매개변수 설정 : price의 길이는 1이상 50이하, price 원소는 고객이 구매한 물품의 가격이며, 10이상 10,000이하의 자연수,  money는 10이상 5,000,000 이하의 자연수. 단, 거스름돈이 <0 일 때는 -1을 반환하도록 해 주세요.\r\n"
      ]
    },
    {
      "cell_type": "code",
      "metadata": {
        "id": "_yg_5vNGZnQT"
      },
      "source": [
        "def solution(price, money):\r\n",
        "    answer = money - sum(price)\r\n",
        "    if answer < 0:\r\n",
        "        answer = -1\r\n",
        "  return answer"
      ],
      "execution_count": null,
      "outputs": []
    },
    {
      "cell_type": "markdown",
      "metadata": {
        "id": "3guLtkHaZtgU"
      },
      "source": [
        "문제20\r\n",
        "\r\n",
        "자연수가 담겨있는 nX4 크기의 2차원 배열에서 K번째로 작은 수를 찾으려 합니다. 이때 n은 배열의 세로 길이, 4는 배열의 가로 길이입니다. 예를 들어 다음은 자연수가 담겨있는 4 X 4 크기의 2차원 배열입니다.\r\n",
        "\r\n",
        "위 2차원 배열에서 가장 작은 수는 2입니다. 두번째로 작은 수는 4, 세번째로 작은 수는 5이며, 네번째로 작은 수는 11입니다. 2차원 배열 arr과 자연수 k가 매개변수로 주어질 때,  arr에서 k번째로 작은 수를 찾아 return 하도록 solution 함수를 완성해 주세요. \r\n",
        "\r\n",
        "매개변수 설명 :\r\n",
        "arr는 nX4 크기의 2차원 배열이면, n은 1이상 20이하,\r\n",
        "n은 arr의 세로 길이이며, 가로 길이는 항상 4\r\n",
        "arr의 원소는 1이상 1,000이하의 자연수이며, 같은 수가 중복해서 들어있지 않다. \r\n",
        "k는 1이상 nX4 이하의 자연수\r\n",
        "\r\n",
        "\r\n"
      ]
    },
    {
      "cell_type": "code",
      "metadata": {
        "id": "Eygm6fZYZ1-A"
      },
      "source": [
        "def solution(arr,k):\r\n",
        "    answer = 0\r\n",
        "    temp = []\r\n",
        "    for a in arr:\r\n",
        "        for b in a:\r\n",
        "            temp.append(b)    \r\n",
        "    temp.sort()\r\n",
        "    answer = temp[k-1]\r\n",
        "  return answer"
      ],
      "execution_count": null,
      "outputs": []
    }
  ]
}
