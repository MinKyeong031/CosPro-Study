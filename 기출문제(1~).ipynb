{
  "nbformat": 4,
  "nbformat_minor": 0,
  "metadata": {
    "colab": {
      "name": "기출문제(1~).ipynb",
      "provenance": [],
      "collapsed_sections": [],
      "authorship_tag": "ABX9TyPBimtuFNWhkChdn/I/Frus",
      "include_colab_link": true
    },
    "kernelspec": {
      "name": "python3",
      "display_name": "Python 3"
    }
  },
  "cells": [
    {
      "cell_type": "markdown",
      "metadata": {
        "id": "view-in-github",
        "colab_type": "text"
      },
      "source": [
        "<a href=\"https://colab.research.google.com/github/MinKyeong031/CosPro-Study/blob/main/%EA%B8%B0%EC%B6%9C%EB%AC%B8%EC%A0%9C(1~).ipynb\" target=\"_parent\"><img src=\"https://colab.research.google.com/assets/colab-badge.svg\" alt=\"Open In Colab\"/></a>"
      ]
    },
    {
      "cell_type": "code",
      "metadata": {
        "colab": {
          "base_uri": "https://localhost:8080/"
        },
        "id": "bTcSRuD7EDGn",
        "outputId": "3c37d9ab-39d9-4547-b59e-c5f71a80e69c"
      },
      "source": [
        "#기출문제 1번\r\n",
        "def solution(shirt_size):\r\n",
        "  answer = [0 for _ in range(6)]\r\n",
        "  for size in shirt_size:\r\n",
        "    if size == \"XS\":\r\n",
        "      answer[0] += 1\r\n",
        "    elif size == \"S\":\r\n",
        "      answer[1] += 1\r\n",
        "    elif size == \"M\":\r\n",
        "      answer[2] += 1\r\n",
        "    elif size == \"L\":\r\n",
        "      answer[3] += 1\r\n",
        "    elif size == \"XL\":\r\n",
        "      answer[4] += 1\r\n",
        "    elif size == \"XXL\":\r\n",
        "      answer[5] += 1\r\n",
        "  return answer\r\n",
        "\r\n",
        "shirt_size = [\"XS\", \"S\", \"L\", \"L\", \"XXL\"]\r\n",
        "solution(shirt_size)"
      ],
      "execution_count": 5,
      "outputs": [
        {
          "output_type": "execute_result",
          "data": {
            "text/plain": [
              "[1, 1, 0, 2, 0, 1]"
            ]
          },
          "metadata": {
            "tags": []
          },
          "execution_count": 5
        }
      ]
    },
    {
      "cell_type": "code",
      "metadata": {
        "id": "LDf6IWURMF07"
      },
      "source": [
        "#기출문제 2번\r\n",
        "def solution(price, grade):\r\n",
        "  answer = 0\r\n",
        "  if grade == \"S\":\r\n",
        "    answer = price - price * 0.05\r\n",
        "  elif grade == \"G\":\r\n",
        "    answer = price - price * 0.1\r\n",
        "  elif grade == \"V\":\r\n",
        "    answer = price - price * 0.15\r\n",
        "  return answer"
      ],
      "execution_count": null,
      "outputs": []
    }
  ]
}