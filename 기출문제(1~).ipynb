{
  "nbformat": 4,
  "nbformat_minor": 0,
  "metadata": {
    "colab": {
      "name": "기출문제(1~).ipynb",
      "provenance": [],
      "collapsed_sections": [],
      "authorship_tag": "ABX9TyNRSz0SBUCYl+alRhexzMOK",
      "include_colab_link": true
    },
    "kernelspec": {
      "name": "python3",
      "display_name": "Python 3"
    }
  },
  "cells": [
    {
      "cell_type": "markdown",
      "metadata": {
        "id": "view-in-github",
        "colab_type": "text"
      },
      "source": [
        "<a href=\"https://colab.research.google.com/github/MinKyeong031/CosPro-Study/blob/main/%EA%B8%B0%EC%B6%9C%EB%AC%B8%EC%A0%9C(1~).ipynb\" target=\"_parent\"><img src=\"https://colab.research.google.com/assets/colab-badge.svg\" alt=\"Open In Colab\"/></a>"
      ]
    },
    {
      "cell_type": "code",
      "metadata": {
        "colab": {
          "base_uri": "https://localhost:8080/"
        },
        "id": "bTcSRuD7EDGn",
        "outputId": "3c37d9ab-39d9-4547-b59e-c5f71a80e69c"
      },
      "source": [
        "#기출문제 1번\r\n",
        "def solution(shirt_size):\r\n",
        "  answer = [0 for _ in range(6)]\r\n",
        "  for size in shirt_size:\r\n",
        "    if size == \"XS\":\r\n",
        "      answer[0] += 1\r\n",
        "    elif size == \"S\":\r\n",
        "      answer[1] += 1\r\n",
        "    elif size == \"M\":\r\n",
        "      answer[2] += 1\r\n",
        "    elif size == \"L\":\r\n",
        "      answer[3] += 1\r\n",
        "    elif size == \"XL\":\r\n",
        "      answer[4] += 1\r\n",
        "    elif size == \"XXL\":\r\n",
        "      answer[5] += 1\r\n",
        "  return answer\r\n",
        "\r\n",
        "shirt_size = [\"XS\", \"S\", \"L\", \"L\", \"XXL\"]\r\n",
        "solution(shirt_size)"
      ],
      "execution_count": null,
      "outputs": [
        {
          "output_type": "execute_result",
          "data": {
            "text/plain": [
              "[1, 1, 0, 2, 0, 1]"
            ]
          },
          "metadata": {
            "tags": []
          },
          "execution_count": 5
        }
      ]
    },
    {
      "cell_type": "code",
      "metadata": {
        "id": "LDf6IWURMF07",
        "colab": {
          "base_uri": "https://localhost:8080/"
        },
        "outputId": "af51dfab-842b-40a7-800d-a83e9ddaae41"
      },
      "source": [
        "#기출문제 2번\r\n",
        "def solution(price, grade):\r\n",
        "  answer = 0\r\n",
        "  if grade == \"S\":\r\n",
        "    answer = int(price * 0.95)\r\n",
        "  elif grade == \"G\":\r\n",
        "    answer = int(price * 0.9)\r\n",
        "  elif grade == \"V\":\r\n",
        "    answer = int(price * 0.85)\r\n",
        "  return answer\r\n",
        "\r\n",
        "price = 100\r\n",
        "grade = \"S\"\r\n",
        "solution(price, grade)"
      ],
      "execution_count": 7,
      "outputs": [
        {
          "output_type": "execute_result",
          "data": {
            "text/plain": [
              "95"
            ]
          },
          "metadata": {
            "tags": []
          },
          "execution_count": 7
        }
      ]
    },
    {
      "cell_type": "code",
      "metadata": {
        "colab": {
          "base_uri": "https://localhost:8080/"
        },
        "id": "bJVF626W80tm",
        "outputId": "d8508159-5664-42d1-cb92-786093aacf87"
      },
      "source": [
        "#기출문제 3번\r\n",
        "def func_a(month, day):\r\n",
        "  month_list = [31, 28, 31, 30, 31, 30, 31, 31, 30, 31, 30, 31]\r\n",
        "  total = 0\r\n",
        "  for i in range(month-1):\r\n",
        "    total += month_list[i]\r\n",
        "  total += day\r\n",
        "  return total-1\r\n",
        "\r\n",
        "def solution(start_month, start_day, end_month, end_day):\r\n",
        "  start_total = func_a(start_month, start_day)\r\n",
        "  end_total = func_a(end_month, end_day)\r\n",
        "  return end_total - start_total\r\n",
        "\r\n",
        "start_month = 1\r\n",
        "start_day = 31\r\n",
        "end_month = 2\r\n",
        "end_day = 2\r\n",
        "solution(start_month, start_day, end_month, end_day)"
      ],
      "execution_count": 17,
      "outputs": [
        {
          "output_type": "execute_result",
          "data": {
            "text/plain": [
              "2"
            ]
          },
          "metadata": {
            "tags": []
          },
          "execution_count": 17
        }
      ]
    },
    {
      "cell_type": "code",
      "metadata": {
        "colab": {
          "base_uri": "https://localhost:8080/"
        },
        "id": "ELXclJzCAedh",
        "outputId": "8ba1a379-93e0-443c-b4f1-c4aa9dffd2e8"
      },
      "source": [
        "#기출문제 4번\r\n",
        "def func_a(arr):\r\n",
        "  counter = [0 for _ in range(1001)]\r\n",
        "  for x in arr:\r\n",
        "    counter[x] += 1\r\n",
        "  return counter\r\n",
        "\r\n",
        "def func_b(arr):\r\n",
        "  ret = 0\r\n",
        "  for x in arr:\r\n",
        "    if ret < x:\r\n",
        "      ret = x\r\n",
        "  return ret\r\n",
        "\r\n",
        "def func_c(arr):\r\n",
        "  ret = 1001\r\n",
        "  for x in arr:\r\n",
        "    if x != 0 and ret > x:\r\n",
        "      ret = x\r\n",
        "  return ret\r\n",
        "\r\n",
        "def solution(arr):\r\n",
        "  counter = func_a(arr)\r\n",
        "  max_cnt = func_b(counter)\r\n",
        "  min_cnt = func_c(counter)\r\n",
        "  return max_cnt // min_cnt\r\n",
        "\r\n",
        "arr = [1, 2, 3, 4, 1, 3, 3, 2, 3, 2]\r\n",
        "solution(arr)"
      ],
      "execution_count": 18,
      "outputs": [
        {
          "output_type": "execute_result",
          "data": {
            "text/plain": [
              "4"
            ]
          },
          "metadata": {
            "tags": []
          },
          "execution_count": 18
        }
      ]
    },
    {
      "cell_type": "code",
      "metadata": {
        "colab": {
          "base_uri": "https://localhost:8080/"
        },
        "id": "ypTzvMiqMiyJ",
        "outputId": "2ef88627-9e19-4bbc-d648-189a94b5ee22"
      },
      "source": [
        "#기출문제 5번\r\n",
        "def solution(arr):\r\n",
        "  left, right = 0, len(arr) -1\r\n",
        "  while left < right:\r\n",
        "    arr[left], arr[right] = arr[right], arr[left]\r\n",
        "    left += 1\r\n",
        "    right -= 1\r\n",
        "  return arr\r\n",
        "\r\n",
        "arr = [1, 4, 2, 3]\r\n",
        "solution(arr)"
      ],
      "execution_count": 20,
      "outputs": [
        {
          "output_type": "execute_result",
          "data": {
            "text/plain": [
              "[3, 2, 4, 1]"
            ]
          },
          "metadata": {
            "tags": []
          },
          "execution_count": 20
        }
      ]
    },
    {
      "cell_type": "code",
      "metadata": {
        "colab": {
          "base_uri": "https://localhost:8080/"
        },
        "id": "_CO0e7kYONNJ",
        "outputId": "0a1db2f9-decc-431e-8b42-5bc64462794e"
      },
      "source": [
        "#기출문제 6번\r\n",
        "def solution(number):\r\n",
        "  count = 0\r\n",
        "  for i in range(1, number+1):\r\n",
        "    current = i\r\n",
        "    temp = count\r\n",
        "    while current != 0:\r\n",
        "      if current % 10 == 3 or current % 10 == 6 or current % 10 == 9:\r\n",
        "        count += 1\r\n",
        "        print(\"짝\", end = \"\")\r\n",
        "      current = current // 10\r\n",
        "    if temp == count:\r\n",
        "      print(i, end = \"\")\r\n",
        "    print(\" \", end = \"\")\r\n",
        "  print(\"\")\r\n",
        "  return count\r\n",
        "\r\n",
        "solution(10)"
      ],
      "execution_count": 36,
      "outputs": [
        {
          "output_type": "stream",
          "text": [
            "1 2 짝 4 5 짝 7 8 짝 10 \n"
          ],
          "name": "stdout"
        },
        {
          "output_type": "execute_result",
          "data": {
            "text/plain": [
              "3"
            ]
          },
          "metadata": {
            "tags": []
          },
          "execution_count": 36
        }
      ]
    },
    {
      "cell_type": "code",
      "metadata": {
        "colab": {
          "base_uri": "https://localhost:8080/"
        },
        "id": "qPTZ-WW4XVfh",
        "outputId": "e826b84f-6ad1-4416-fa3a-e0de90ca7c5b"
      },
      "source": [
        "#기출문제 7번\r\n",
        "def solution(scores):\r\n",
        "  count = 0\r\n",
        "  for s in scores:\r\n",
        "    if 650 <= s and s < 800:\r\n",
        "      count += 1\r\n",
        "  return count\r\n",
        "\r\n",
        "scores = [650, 722, 914, 558, 714, 803, 650, 679, 669, 800]\r\n",
        "solution(scores)"
      ],
      "execution_count": 40,
      "outputs": [
        {
          "output_type": "execute_result",
          "data": {
            "text/plain": [
              "6"
            ]
          },
          "metadata": {
            "tags": []
          },
          "execution_count": 40
        }
      ]
    },
    {
      "cell_type": "code",
      "metadata": {
        "colab": {
          "base_uri": "https://localhost:8080/"
        },
        "id": "4GjsjkYiXuWb",
        "outputId": "6503ad3d-a16d-42b7-dd02-fd6cdbf8db73"
      },
      "source": [
        "#기출문제 8번\r\n",
        "def solution(sentence):\r\n",
        "  str = \"\"\r\n",
        "  for c in sentence:\r\n",
        "    if c != \".\" and c != \"\":\r\n",
        "      str += c\r\n",
        "  size = len(str)\r\n",
        "  for i in range(size//2):\r\n",
        "    if str[i] != str[size-1-i]:\r\n",
        "      return False\r\n",
        "  return True\r\n",
        "\r\n",
        "sentence1 = \"never odd or even.\"\r\n",
        "solution(sentence1)"
      ],
      "execution_count": 46,
      "outputs": [
        {
          "output_type": "execute_result",
          "data": {
            "text/plain": [
              "False"
            ]
          },
          "metadata": {
            "tags": []
          },
          "execution_count": 46
        }
      ]
    },
    {
      "cell_type": "code",
      "metadata": {
        "colab": {
          "base_uri": "https://localhost:8080/"
        },
        "id": "QCKnNBIxZQRQ",
        "outputId": "4f472b47-7ddf-4737-eeae-d0ac684da388"
      },
      "source": [
        "def colution(characters):\r\n",
        "  result = \"\"\r\n",
        "  result += characters[0]\r\n",
        "  for i in range(1, len(characters)):\r\n",
        "    if characters[i-1] != characters[i]:\r\n",
        "      result += characters[i]\r\n",
        "  return result\r\n",
        "\r\n",
        "characters = \"senteeeencccccceeee\"\r\n",
        "solution(characters)"
      ],
      "execution_count": 48,
      "outputs": [
        {
          "output_type": "execute_result",
          "data": {
            "text/plain": [
              "False"
            ]
          },
          "metadata": {
            "tags": []
          },
          "execution_count": 48
        }
      ]
    }
  ]
}