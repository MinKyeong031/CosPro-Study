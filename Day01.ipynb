{
  "nbformat": 4,
  "nbformat_minor": 0,
  "metadata": {
    "colab": {
      "name": "Day01.ipynb",
      "provenance": [],
      "collapsed_sections": [],
      "authorship_tag": "ABX9TyMLmZGxLMnyvn+2RNS0w7yY",
      "include_colab_link": true
    },
    "kernelspec": {
      "name": "python3",
      "display_name": "Python 3"
    }
  },
  "cells": [
    {
      "cell_type": "markdown",
      "metadata": {
        "id": "view-in-github",
        "colab_type": "text"
      },
      "source": [
        "<a href=\"https://colab.research.google.com/github/MinKyeong031/CosPro-Study/blob/main/Day01.ipynb\" target=\"_parent\"><img src=\"https://colab.research.google.com/assets/colab-badge.svg\" alt=\"Open In Colab\"/></a>"
      ]
    },
    {
      "cell_type": "code",
      "metadata": {
        "colab": {
          "base_uri": "https://localhost:8080/"
        },
        "id": "u1Ji8bnV2deQ",
        "outputId": "28b5a3a1-470b-4e13-fb2f-2c1f67611720"
      },
      "source": [
        "print(type('1'))\r\n",
        "print(type(\"1\"))\r\n",
        "print(type(10))\r\n",
        "print(type(10.0))"
      ],
      "execution_count": 1,
      "outputs": [
        {
          "output_type": "stream",
          "text": [
            "<class 'str'>\n",
            "<class 'str'>\n",
            "<class 'int'>\n",
            "<class 'float'>\n"
          ],
          "name": "stdout"
        }
      ]
    },
    {
      "cell_type": "code",
      "metadata": {
        "colab": {
          "base_uri": "https://localhost:8080/"
        },
        "id": "hdMzW_Fs5nuE",
        "outputId": "ee88558b-9c75-4bc5-cd4b-651c2e2ee2f0"
      },
      "source": [
        "a = 1\r\n",
        "#a++ 증감연산자 지원하지 않음\r\n",
        "print(a)"
      ],
      "execution_count": 2,
      "outputs": [
        {
          "output_type": "stream",
          "text": [
            "1\n"
          ],
          "name": "stdout"
        }
      ]
    },
    {
      "cell_type": "code",
      "metadata": {
        "colab": {
          "base_uri": "https://localhost:8080/"
        },
        "id": "CJ-7IIE45vu8",
        "outputId": "f5e8d1ee-5b88-4a09-fadb-9e18c263df94"
      },
      "source": [
        "num = 0\r\n",
        "print(num)\r\n",
        "num = num + 1 #아랫줄과 동일\r\n",
        "print(num)\r\n",
        "num += 1\r\n",
        "print(num)\r\n",
        "num -= 1 #아랫줄과 동일\r\n",
        "print(num)\r\n",
        "num = num -1\r\n",
        "print(num)"
      ],
      "execution_count": 6,
      "outputs": [
        {
          "output_type": "stream",
          "text": [
            "0\n",
            "1\n",
            "2\n",
            "1\n",
            "0\n"
          ],
          "name": "stdout"
        }
      ]
    },
    {
      "cell_type": "code",
      "metadata": {
        "colab": {
          "base_uri": "https://localhost:8080/"
        },
        "id": "q1rTpLHl6XS_",
        "outputId": "1665fe02-33f3-498e-c1b1-b0b299fc8359"
      },
      "source": [
        "num1 = 10\r\n",
        "num2 = 2\r\n",
        "print(type(num1), type(num2))\r\n",
        "lf = num1/num2\r\n",
        "print(type(lf))\r\n",
        "print(lf)"
      ],
      "execution_count": 8,
      "outputs": [
        {
          "output_type": "stream",
          "text": [
            "<class 'int'> <class 'int'>\n",
            "<class 'float'>\n",
            "5.0\n"
          ],
          "name": "stdout"
        }
      ]
    },
    {
      "cell_type": "code",
      "metadata": {
        "colab": {
          "base_uri": "https://localhost:8080/"
        },
        "id": "FpkhApqd6hjA",
        "outputId": "5a593cb3-a01b-4d69-b83c-0db54488bc6d"
      },
      "source": [
        "lf = 1074/100\r\n",
        "num = int(lf)\r\n",
        "print(num, type(num))\r\n",
        "print(lf, type(lf))"
      ],
      "execution_count": 9,
      "outputs": [
        {
          "output_type": "stream",
          "text": [
            "10 <class 'int'>\n",
            "10.74 <class 'float'>\n"
          ],
          "name": "stdout"
        }
      ]
    }
  ]
}