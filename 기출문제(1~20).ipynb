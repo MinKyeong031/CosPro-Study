{
  "nbformat": 4,
  "nbformat_minor": 0,
  "metadata": {
    "colab": {
      "name": "기출문제(1~20).ipynb",
      "provenance": [],
      "collapsed_sections": [],
      "authorship_tag": "ABX9TyOFCs5AubHlsBDBA8eOWXds",
      "include_colab_link": true
    },
    "kernelspec": {
      "name": "python3",
      "display_name": "Python 3"
    }
  },
  "cells": [
    {
      "cell_type": "markdown",
      "metadata": {
        "id": "view-in-github",
        "colab_type": "text"
      },
      "source": [
        "<a href=\"https://colab.research.google.com/github/MinKyeong031/CosPro-Study/blob/main/%EA%B8%B0%EC%B6%9C%EB%AC%B8%EC%A0%9C(1~20).ipynb\" target=\"_parent\"><img src=\"https://colab.research.google.com/assets/colab-badge.svg\" alt=\"Open In Colab\"/></a>"
      ]
    },
    {
      "cell_type": "code",
      "metadata": {
        "colab": {
          "base_uri": "https://localhost:8080/"
        },
        "id": "bTcSRuD7EDGn",
        "outputId": "1abdb9ac-6adc-4145-a589-98dc5bd38410"
      },
      "source": [
        "#기출문제 1번\r\n",
        "def solution(shirt_size):\r\n",
        "  answer = [0 for _ in range(6)]\r\n",
        "  for size in shirt_size:\r\n",
        "    if size == \"XS\":\r\n",
        "      answer[0] += 1\r\n",
        "    elif size == \"S\":\r\n",
        "      answer[1] += 1\r\n",
        "    elif size == \"M\":\r\n",
        "      answer[2] += 1\r\n",
        "    elif size == \"L\":\r\n",
        "      answer[3] += 1\r\n",
        "    elif size == \"XL\":\r\n",
        "      answer[4] += 1\r\n",
        "    elif size == \"XXL\":\r\n",
        "      answer[5] += 1\r\n",
        "  return answer\r\n",
        "\r\n",
        "shirt_size = [\"XS\", \"S\", \"L\", \"L\", \"XXL\"]\r\n",
        "solution(shirt_size)"
      ],
      "execution_count": 49,
      "outputs": [
        {
          "output_type": "execute_result",
          "data": {
            "text/plain": [
              "[1, 1, 0, 2, 0, 1]"
            ]
          },
          "metadata": {
            "tags": []
          },
          "execution_count": 49
        }
      ]
    },
    {
      "cell_type": "code",
      "metadata": {
        "id": "LDf6IWURMF07",
        "colab": {
          "base_uri": "https://localhost:8080/"
        },
        "outputId": "3936495f-4930-4f31-f7f3-588bf98619a8"
      },
      "source": [
        "#기출문제 2번\r\n",
        "def solution(price, grade):\r\n",
        "  answer = 0\r\n",
        "  if grade == \"S\":\r\n",
        "    answer = int(price * 0.95)\r\n",
        "  elif grade == \"G\":\r\n",
        "    answer = int(price * 0.9)\r\n",
        "  elif grade == \"V\":\r\n",
        "    answer = int(price * 0.85)\r\n",
        "  return answer\r\n",
        "\r\n",
        "price = 100\r\n",
        "grade = \"S\"\r\n",
        "solution(price, grade)"
      ],
      "execution_count": 50,
      "outputs": [
        {
          "output_type": "execute_result",
          "data": {
            "text/plain": [
              "95"
            ]
          },
          "metadata": {
            "tags": []
          },
          "execution_count": 50
        }
      ]
    },
    {
      "cell_type": "code",
      "metadata": {
        "colab": {
          "base_uri": "https://localhost:8080/"
        },
        "id": "bJVF626W80tm",
        "outputId": "2fef513c-b704-4d2e-9d8c-88a980e4b8c6"
      },
      "source": [
        "#기출문제 3번\r\n",
        "def func_a(month, day):\r\n",
        "  month_list = [31, 28, 31, 30, 31, 30, 31, 31, 30, 31, 30, 31]\r\n",
        "  total = 0\r\n",
        "  for i in range(month-1):\r\n",
        "    total += month_list[i]\r\n",
        "  total += day\r\n",
        "  return total-1\r\n",
        "\r\n",
        "def solution(start_month, start_day, end_month, end_day):\r\n",
        "  start_total = func_a(start_month, start_day)\r\n",
        "  end_total = func_a(end_month, end_day)\r\n",
        "  return end_total - start_total\r\n",
        "\r\n",
        "start_month = 1\r\n",
        "start_day = 31\r\n",
        "end_month = 2\r\n",
        "end_day = 2\r\n",
        "solution(start_month, start_day, end_month, end_day)"
      ],
      "execution_count": 51,
      "outputs": [
        {
          "output_type": "execute_result",
          "data": {
            "text/plain": [
              "2"
            ]
          },
          "metadata": {
            "tags": []
          },
          "execution_count": 51
        }
      ]
    },
    {
      "cell_type": "code",
      "metadata": {
        "colab": {
          "base_uri": "https://localhost:8080/"
        },
        "id": "ELXclJzCAedh",
        "outputId": "beaac1f9-8223-488a-f279-059e52b35e7b"
      },
      "source": [
        "#기출문제 4번\r\n",
        "def func_a(arr):\r\n",
        "  counter = [0 for _ in range(1001)]\r\n",
        "  for x in arr:\r\n",
        "    counter[x] += 1\r\n",
        "  return counter\r\n",
        "\r\n",
        "def func_b(arr):\r\n",
        "  ret = 0\r\n",
        "  for x in arr:\r\n",
        "    if ret < x:\r\n",
        "      ret = x\r\n",
        "  return ret\r\n",
        "\r\n",
        "def func_c(arr):\r\n",
        "  ret = 1001\r\n",
        "  for x in arr:\r\n",
        "    if x != 0 and ret > x:\r\n",
        "      ret = x\r\n",
        "  return ret\r\n",
        "\r\n",
        "def solution(arr):\r\n",
        "  counter = func_a(arr)\r\n",
        "  max_cnt = func_b(counter)\r\n",
        "  min_cnt = func_c(counter)\r\n",
        "  return max_cnt // min_cnt\r\n",
        "\r\n",
        "arr = [1, 2, 3, 4, 1, 3, 3, 2, 3, 2]\r\n",
        "solution(arr)"
      ],
      "execution_count": 52,
      "outputs": [
        {
          "output_type": "execute_result",
          "data": {
            "text/plain": [
              "4"
            ]
          },
          "metadata": {
            "tags": []
          },
          "execution_count": 52
        }
      ]
    },
    {
      "cell_type": "code",
      "metadata": {
        "colab": {
          "base_uri": "https://localhost:8080/"
        },
        "id": "ypTzvMiqMiyJ",
        "outputId": "1ccb2175-9642-40cf-bf7a-9265e29066dc"
      },
      "source": [
        "#기출문제 5번\r\n",
        "def solution(arr):\r\n",
        "  left, right = 0, len(arr) -1\r\n",
        "  while left < right:\r\n",
        "    arr[left], arr[right] = arr[right], arr[left]\r\n",
        "    left += 1\r\n",
        "    right -= 1\r\n",
        "  return arr\r\n",
        "\r\n",
        "arr = [1, 4, 2, 3]\r\n",
        "solution(arr)"
      ],
      "execution_count": 53,
      "outputs": [
        {
          "output_type": "execute_result",
          "data": {
            "text/plain": [
              "[3, 2, 4, 1]"
            ]
          },
          "metadata": {
            "tags": []
          },
          "execution_count": 53
        }
      ]
    },
    {
      "cell_type": "code",
      "metadata": {
        "colab": {
          "base_uri": "https://localhost:8080/"
        },
        "id": "_CO0e7kYONNJ",
        "outputId": "0cec110f-8ae4-45bd-9471-94d8ba41e98c"
      },
      "source": [
        "#기출문제 6번\r\n",
        "def solution(number):\r\n",
        "  count = 0\r\n",
        "  for i in range(1, number+1):\r\n",
        "    current = i\r\n",
        "    temp = count\r\n",
        "    while current != 0:\r\n",
        "      if current % 10 == 3 or current % 10 == 6 or current % 10 == 9:\r\n",
        "        count += 1\r\n",
        "        print(\"짝\", end = \"\")\r\n",
        "      current = current // 10\r\n",
        "    if temp == count:\r\n",
        "      print(i, end = \"\")\r\n",
        "    print(\" \", end = \"\")\r\n",
        "  print(\"\")\r\n",
        "  return count\r\n",
        "\r\n",
        "solution(10)"
      ],
      "execution_count": 54,
      "outputs": [
        {
          "output_type": "stream",
          "text": [
            "1 2 짝 4 5 짝 7 8 짝 10 \n"
          ],
          "name": "stdout"
        },
        {
          "output_type": "execute_result",
          "data": {
            "text/plain": [
              "3"
            ]
          },
          "metadata": {
            "tags": []
          },
          "execution_count": 54
        }
      ]
    },
    {
      "cell_type": "code",
      "metadata": {
        "colab": {
          "base_uri": "https://localhost:8080/"
        },
        "id": "qPTZ-WW4XVfh",
        "outputId": "73c2bab9-e9d3-4c06-9adf-a163d9a19870"
      },
      "source": [
        "#기출문제 7번\r\n",
        "def solution(scores):\r\n",
        "  count = 0\r\n",
        "  for s in scores:\r\n",
        "    if 650 <= s and s < 800:\r\n",
        "      count += 1\r\n",
        "  return count\r\n",
        "\r\n",
        "scores = [650, 722, 914, 558, 714, 803, 650, 679, 669, 800]\r\n",
        "solution(scores)"
      ],
      "execution_count": 55,
      "outputs": [
        {
          "output_type": "execute_result",
          "data": {
            "text/plain": [
              "6"
            ]
          },
          "metadata": {
            "tags": []
          },
          "execution_count": 55
        }
      ]
    },
    {
      "cell_type": "code",
      "metadata": {
        "colab": {
          "base_uri": "https://localhost:8080/"
        },
        "id": "4GjsjkYiXuWb",
        "outputId": "97bfa155-1507-4367-9d5b-1ece852ee26f"
      },
      "source": [
        "#기출문제 8번\r\n",
        "def solution(sentence):\r\n",
        "  str = \"\"\r\n",
        "  for c in sentence:\r\n",
        "    if c != \".\" and c != \"\":\r\n",
        "      str += c\r\n",
        "  size = len(str)\r\n",
        "  for i in range(size//2):\r\n",
        "    if str[i] != str[size-1-i]:\r\n",
        "      return False\r\n",
        "  return True\r\n",
        "\r\n",
        "sentence1 = \"never odd or even.\"\r\n",
        "solution(sentence1)"
      ],
      "execution_count": 56,
      "outputs": [
        {
          "output_type": "execute_result",
          "data": {
            "text/plain": [
              "False"
            ]
          },
          "metadata": {
            "tags": []
          },
          "execution_count": 56
        }
      ]
    },
    {
      "cell_type": "code",
      "metadata": {
        "colab": {
          "base_uri": "https://localhost:8080/",
          "height": 35
        },
        "id": "QCKnNBIxZQRQ",
        "outputId": "6cf88b40-d427-481f-a914-a048d133462c"
      },
      "source": [
        "#기출문제 9번\r\n",
        "def solution(characters):\r\n",
        "  result = \"\"\r\n",
        "  result += characters[0]\r\n",
        "  for i in range(1, len(characters)):\r\n",
        "    if characters[i-1] != characters[i]:\r\n",
        "      result += characters[i]\r\n",
        "  return result\r\n",
        "\r\n",
        "characters = \"senteeeencccccceeee\"\r\n",
        "solution(characters)"
      ],
      "execution_count": 57,
      "outputs": [
        {
          "output_type": "execute_result",
          "data": {
            "application/vnd.google.colaboratory.intrinsic+json": {
              "type": "string"
            },
            "text/plain": [
              "'sentence'"
            ]
          },
          "metadata": {
            "tags": []
          },
          "execution_count": 57
        }
      ]
    },
    {
      "cell_type": "code",
      "metadata": {
        "colab": {
          "base_uri": "https://localhost:8080/"
        },
        "id": "Crju2JdParr2",
        "outputId": "544640c8-3940-4f8f-e816-90462ae76188"
      },
      "source": [
        "#기출문제 10번\r\n",
        "def solution(data):\r\n",
        "  total = sum(data)\r\n",
        "  average = total / len(data)\r\n",
        "  cnt = 0\r\n",
        "  for d in data:\r\n",
        "    if d <= average:\r\n",
        "      cnt += 1\r\n",
        "  return cnt\r\n",
        "\r\n",
        "data1 = [1, 2, 3, 4, 5, 6, 7, 8, 9, 10]\r\n",
        "solution((data1))"
      ],
      "execution_count": 59,
      "outputs": [
        {
          "output_type": "execute_result",
          "data": {
            "text/plain": [
              "5"
            ]
          },
          "metadata": {
            "tags": []
          },
          "execution_count": 59
        }
      ]
    },
    {
      "cell_type": "code",
      "metadata": {
        "colab": {
          "base_uri": "https://localhost:8080/"
        },
        "id": "dV9m21p9xj2g",
        "outputId": "3948c900-4911-40a9-aaa8-b46aafcc0860"
      },
      "source": [
        "#기출문제 11번\r\n",
        "def func_a(k):\r\n",
        "    sum = 0\r\n",
        "    for i in range(k+1):\r\n",
        "        sum += i\r\n",
        "    return sum\r\n",
        "\r\n",
        "def solution(n, m):\r\n",
        "    sum_to_m = func_a(m)\r\n",
        "    sum_to_n = func_a(n-1)\r\n",
        "    answer = sum_to_m - sum_to_n\r\n",
        "    return answer\r\n",
        "\r\n",
        "solution(5, 6)"
      ],
      "execution_count": 62,
      "outputs": [
        {
          "output_type": "execute_result",
          "data": {
            "text/plain": [
              "11"
            ]
          },
          "metadata": {
            "tags": []
          },
          "execution_count": 62
        }
      ]
    },
    {
      "cell_type": "code",
      "metadata": {
        "colab": {
          "base_uri": "https://localhost:8080/"
        },
        "id": "-phHU8hfzJFC",
        "outputId": "64e64fb6-e6a3-4075-9eac-752569284646"
      },
      "source": [
        "#기출문제 12번\r\n",
        "def func_a(s):\r\n",
        "    ret = 0\r\n",
        "    for i in s:\r\n",
        "        if i > ret:\r\n",
        "            ret = i\r\n",
        "    return ret\r\n",
        "\r\n",
        "def func_b(s):\r\n",
        "    ret = 0\r\n",
        "    for i in s:\r\n",
        "       ret += i\r\n",
        "    return ret\r\n",
        "\r\n",
        "def func_c(s):\r\n",
        "    ret = 101\r\n",
        "    for i in s:\r\n",
        "        if i < ret:\r\n",
        "            ret = i\r\n",
        "    return ret\r\n",
        "\r\n",
        "def solution(scores):\r\n",
        "    sum = func_b(scores)\r\n",
        "    max_score = func_a(scores)\r\n",
        "    min_score = func_c(scores)\r\n",
        "    return sum - max_score - min_score\r\n",
        "\r\n",
        "scores = [50, 90, 65, 100]\r\n",
        "solution(scores)"
      ],
      "execution_count": 63,
      "outputs": [
        {
          "output_type": "execute_result",
          "data": {
            "text/plain": [
              "155"
            ]
          },
          "metadata": {
            "tags": []
          },
          "execution_count": 63
        }
      ]
    },
    {
      "cell_type": "code",
      "metadata": {
        "colab": {
          "base_uri": "https://localhost:8080/"
        },
        "id": "McXUTBeozYIr",
        "outputId": "04af414e-4a70-465d-8f53-bbee510bd00e"
      },
      "source": [
        "#기출문제 13번\r\n",
        "def func_a(arr, n):\r\n",
        "    ret = []\r\n",
        "    for x in arr:\r\n",
        "        if x != n:\r\n",
        "            ret.append(x)\r\n",
        "    return ret\r\n",
        "\r\n",
        "def func_b(a, b):\r\n",
        "    if a >= b:\r\n",
        "        return a - b\r\n",
        "    \r\n",
        "def func_c(arr):\r\n",
        "    ret = -1\r\n",
        "    for x in arr:\r\n",
        "        if ret < x:\r\n",
        "            ret = x\r\n",
        "    return ret\r\n",
        "\r\n",
        "def solution(visitor):\r\n",
        "    max_first = func_c(visitor)\r\n",
        "    visitor_removed = func_a(visitor, max_first)\r\n",
        "    max_second = func_c(visitor_removed)\r\n",
        "    answer = func_b(max_first, max_second)\r\n",
        "    return answer\r\n",
        "\r\n",
        "visitor = [50, 20, 30, 10, 40]\r\n",
        "solution(visitor)"
      ],
      "execution_count": 65,
      "outputs": [
        {
          "output_type": "execute_result",
          "data": {
            "text/plain": [
              "10"
            ]
          },
          "metadata": {
            "tags": []
          },
          "execution_count": 65
        }
      ]
    },
    {
      "cell_type": "code",
      "metadata": {
        "colab": {
          "base_uri": "https://localhost:8080/"
        },
        "id": "Kr9u05i_zYNr",
        "outputId": "a8b21fe3-0a1c-40d6-bf42-4914e41c4692"
      },
      "source": [
        "#기출문제 14번\r\n",
        "def solution(scores):\r\n",
        "    grade_counter = [0 for i in range(5)]\r\n",
        "    for x in scores:\r\n",
        "        if x >= 85:\r\n",
        "            grade_counter[0] += 1\r\n",
        "        elif x >= 70:\r\n",
        "            grade_counter[1] += 1\r\n",
        "        elif x >= 55:\r\n",
        "            grade_counter[2] += 1\r\n",
        "        elif x >= 40:\r\n",
        "            grade_counter[3] += 1\r\n",
        "        else:\r\n",
        "            grade_counter[4] += 1            \r\n",
        "    return grade_counter\r\n",
        "\r\n",
        "scores = [50, 95, 70, 65, 90, 80, 60]\r\n",
        "solution(scores)"
      ],
      "execution_count": 72,
      "outputs": [
        {
          "output_type": "execute_result",
          "data": {
            "text/plain": [
              "[2, 2, 2, 1, 0]"
            ]
          },
          "metadata": {
            "tags": []
          },
          "execution_count": 72
        }
      ]
    },
    {
      "cell_type": "code",
      "metadata": {
        "colab": {
          "base_uri": "https://localhost:8080/"
        },
        "id": "BO9sQFOZzYQn",
        "outputId": "e69792c4-73eb-49ad-9c8f-d20188254424"
      },
      "source": [
        "#기출문제 15번\r\n",
        "def solution(stones):\r\n",
        "    cnt = 0\r\n",
        "    current = 0\r\n",
        "    n = len(stones)\r\n",
        "    while current < n:\r\n",
        "        current += stones[current]\r\n",
        "        cnt += 1\r\n",
        "    return cnt\r\n",
        "\r\n",
        "stones = [2, 5, 1, 3, 2, 1]\r\n",
        "solution(stones)"
      ],
      "execution_count": 71,
      "outputs": [
        {
          "output_type": "execute_result",
          "data": {
            "text/plain": [
              "3"
            ]
          },
          "metadata": {
            "tags": []
          },
          "execution_count": 71
        }
      ]
    },
    {
      "cell_type": "code",
      "metadata": {
        "colab": {
          "base_uri": "https://localhost:8080/"
        },
        "id": "BdeDOZuj2ZOQ",
        "outputId": "98c36344-0573-43da-b665-bee999721a62"
      },
      "source": [
        "#기출문제 16번\r\n",
        "def solution(height, k):\r\n",
        "    answer = 0\r\n",
        "    n = len(height)\r\n",
        "    for h in height:\r\n",
        "        if h > k:\r\n",
        "            answer += 1\r\n",
        "    return answer\r\n",
        "\r\n",
        "height = [165, 170, 175, 180, 184]\r\n",
        "k = 175\r\n",
        "solution(height, k)"
      ],
      "execution_count": 70,
      "outputs": [
        {
          "output_type": "execute_result",
          "data": {
            "text/plain": [
              "2"
            ]
          },
          "metadata": {
            "tags": []
          },
          "execution_count": 70
        }
      ]
    },
    {
      "cell_type": "code",
      "metadata": {
        "colab": {
          "base_uri": "https://localhost:8080/",
          "height": 35
        },
        "id": "uoeKWt-i2ZR3",
        "outputId": "9bbc161c-1b9e-48e0-d81d-cdf63a80e092"
      },
      "source": [
        "#기출문제 17번\r\n",
        "def solution(s):\r\n",
        "    s_lst = list(s)\r\n",
        "    n = len(s)\r\n",
        "    for i in range(n):\r\n",
        "        if s_lst[i] == 'a':\r\n",
        "            s_lst[i] = 'z'\r\n",
        "        elif s_lst[i] == 'z':\r\n",
        "            s_lst[i] =  'a'\r\n",
        "    return \"\".join(s_lst)\r\n",
        "\r\n",
        "name = 'james'\r\n",
        "solution(name)"
      ],
      "execution_count": 68,
      "outputs": [
        {
          "output_type": "execute_result",
          "data": {
            "application/vnd.google.colaboratory.intrinsic+json": {
              "type": "string"
            },
            "text/plain": [
              "'jzmes'"
            ]
          },
          "metadata": {
            "tags": []
          },
          "execution_count": 68
        }
      ]
    },
    {
      "cell_type": "code",
      "metadata": {
        "colab": {
          "base_uri": "https://localhost:8080/"
        },
        "id": "l9RlbwFo2ZU1",
        "outputId": "7588ea08-599e-49c4-9e8b-b2aa803f8be2"
      },
      "source": [
        "#기출문제 18번\r\n",
        "def solution(name_list):\r\n",
        "    answer = 0\r\n",
        "    for name in name_list:\r\n",
        "        for n in name:\r\n",
        "            if n == 'j' or n == 'k':\r\n",
        "                answer += 1\r\n",
        "                break\r\n",
        "    return answer\r\n",
        "\r\n",
        "names = ['james', 'kim john', 'jokin']\r\n",
        "solution(names)"
      ],
      "execution_count": 69,
      "outputs": [
        {
          "output_type": "execute_result",
          "data": {
            "text/plain": [
              "3"
            ]
          },
          "metadata": {
            "tags": []
          },
          "execution_count": 69
        }
      ]
    },
    {
      "cell_type": "code",
      "metadata": {
        "colab": {
          "base_uri": "https://localhost:8080/"
        },
        "id": "4VOdLM3F2ZXO",
        "outputId": "15e7a10b-2ae7-46d6-a0fd-347673b7e0f4"
      },
      "source": [
        "#기출문제 19번\r\n",
        "def solution(price, money):\r\n",
        "    answer = money - sum(price)\r\n",
        "    if answer < 0:\r\n",
        "        answer = -1\r\n",
        "    return answer\r\n",
        "\r\n",
        "price = [1000, 5000, 500, 2000]\r\n",
        "money = 10000\r\n",
        "solution(price, money)"
      ],
      "execution_count": 67,
      "outputs": [
        {
          "output_type": "execute_result",
          "data": {
            "text/plain": [
              "1500"
            ]
          },
          "metadata": {
            "tags": []
          },
          "execution_count": 67
        }
      ]
    },
    {
      "cell_type": "code",
      "metadata": {
        "colab": {
          "base_uri": "https://localhost:8080/"
        },
        "id": "xxetMcUk2ZZq",
        "outputId": "b37eb330-8f51-4379-fa95-7c0e9b5bd2cb"
      },
      "source": [
        "#기출문제 20번\r\n",
        "def solution(arr, k):\r\n",
        "    answer = 0\r\n",
        "    temp = []\r\n",
        "    for a in arr:\r\n",
        "        for b in a:\r\n",
        "            temp.append(b)    \r\n",
        "    temp.sort()\r\n",
        "    answer = temp[k-1]\r\n",
        "    \r\n",
        "    return answer\r\n",
        "\r\n",
        "arr = [[5,12,4,31], [24,13,11,2], [43,44,19,26], [33,65,20,21]]\r\n",
        "k = 4\r\n",
        "solution(arr, k)"
      ],
      "execution_count": 66,
      "outputs": [
        {
          "output_type": "execute_result",
          "data": {
            "text/plain": [
              "11"
            ]
          },
          "metadata": {
            "tags": []
          },
          "execution_count": 66
        }
      ]
    }
  ]
}