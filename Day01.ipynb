{
  "nbformat": 4,
  "nbformat_minor": 0,
  "metadata": {
    "colab": {
      "name": "Day01.ipynb",
      "provenance": [],
      "collapsed_sections": [],
      "authorship_tag": "ABX9TyP/Xg2WW/1aTgDz78bXNRG6",
      "include_colab_link": true
    },
    "kernelspec": {
      "name": "python3",
      "display_name": "Python 3"
    }
  },
  "cells": [
    {
      "cell_type": "markdown",
      "metadata": {
        "id": "view-in-github",
        "colab_type": "text"
      },
      "source": [
        "<a href=\"https://colab.research.google.com/github/MinKyeong031/CosPro-Study/blob/main/Day01.ipynb\" target=\"_parent\"><img src=\"https://colab.research.google.com/assets/colab-badge.svg\" alt=\"Open In Colab\"/></a>"
      ]
    },
    {
      "cell_type": "code",
      "metadata": {
        "colab": {
          "base_uri": "https://localhost:8080/"
        },
        "id": "u1Ji8bnV2deQ",
        "outputId": "28b5a3a1-470b-4e13-fb2f-2c1f67611720"
      },
      "source": [
        "print(type('1'))\r\n",
        "print(type(\"1\"))\r\n",
        "print(type(10))\r\n",
        "print(type(10.0))"
      ],
      "execution_count": 1,
      "outputs": [
        {
          "output_type": "stream",
          "text": [
            "<class 'str'>\n",
            "<class 'str'>\n",
            "<class 'int'>\n",
            "<class 'float'>\n"
          ],
          "name": "stdout"
        }
      ]
    },
    {
      "cell_type": "code",
      "metadata": {
        "colab": {
          "base_uri": "https://localhost:8080/"
        },
        "id": "hdMzW_Fs5nuE",
        "outputId": "ee88558b-9c75-4bc5-cd4b-651c2e2ee2f0"
      },
      "source": [
        "a = 1\r\n",
        "#a++ 증감연산자 지원하지 않음\r\n",
        "print(a)"
      ],
      "execution_count": 2,
      "outputs": [
        {
          "output_type": "stream",
          "text": [
            "1\n"
          ],
          "name": "stdout"
        }
      ]
    },
    {
      "cell_type": "code",
      "metadata": {
        "colab": {
          "base_uri": "https://localhost:8080/"
        },
        "id": "CJ-7IIE45vu8",
        "outputId": "f5e8d1ee-5b88-4a09-fadb-9e18c263df94"
      },
      "source": [
        "num = 0\r\n",
        "print(num)\r\n",
        "num = num + 1 #아랫줄과 동일\r\n",
        "print(num)\r\n",
        "num += 1\r\n",
        "print(num)\r\n",
        "num -= 1 #아랫줄과 동일\r\n",
        "print(num)\r\n",
        "num = num -1\r\n",
        "print(num)"
      ],
      "execution_count": 6,
      "outputs": [
        {
          "output_type": "stream",
          "text": [
            "0\n",
            "1\n",
            "2\n",
            "1\n",
            "0\n"
          ],
          "name": "stdout"
        }
      ]
    },
    {
      "cell_type": "code",
      "metadata": {
        "colab": {
          "base_uri": "https://localhost:8080/"
        },
        "id": "q1rTpLHl6XS_",
        "outputId": "1665fe02-33f3-498e-c1b1-b0b299fc8359"
      },
      "source": [
        "num1 = 10\r\n",
        "num2 = 2\r\n",
        "print(type(num1), type(num2))\r\n",
        "lf = num1/num2\r\n",
        "print(type(lf))\r\n",
        "print(lf)"
      ],
      "execution_count": 8,
      "outputs": [
        {
          "output_type": "stream",
          "text": [
            "<class 'int'> <class 'int'>\n",
            "<class 'float'>\n",
            "5.0\n"
          ],
          "name": "stdout"
        }
      ]
    },
    {
      "cell_type": "code",
      "metadata": {
        "colab": {
          "base_uri": "https://localhost:8080/"
        },
        "id": "FpkhApqd6hjA",
        "outputId": "5a593cb3-a01b-4d69-b83c-0db54488bc6d"
      },
      "source": [
        "lf = 1074/100\r\n",
        "num = int(lf)\r\n",
        "print(num, type(num))\r\n",
        "print(lf, type(lf))"
      ],
      "execution_count": 9,
      "outputs": [
        {
          "output_type": "stream",
          "text": [
            "10 <class 'int'>\n",
            "10.74 <class 'float'>\n"
          ],
          "name": "stdout"
        }
      ]
    },
    {
      "cell_type": "code",
      "metadata": {
        "colab": {
          "base_uri": "https://localhost:8080/"
        },
        "id": "ozmI2Daz-E8c",
        "outputId": "df039a43-c605-43d1-d91c-4b2afb9a3f91"
      },
      "source": [
        "a, b = 23, 4\r\n",
        "c = a/b\r\n",
        "print(c, type(c))\r\n",
        "d = int(a/b)\r\n",
        "print(d, type(d))\r\n",
        "e = a//b\r\n",
        "print(e, type(e))"
      ],
      "execution_count": 10,
      "outputs": [
        {
          "output_type": "stream",
          "text": [
            "5.75 <class 'float'>\n",
            "5 <class 'int'>\n",
            "5 <class 'int'>\n"
          ],
          "name": "stdout"
        }
      ]
    },
    {
      "cell_type": "code",
      "metadata": {
        "id": "jU6E1oQQ-Pqm"
      },
      "source": [
        "a-b == 0"
      ],
      "execution_count": null,
      "outputs": []
    },
    {
      "cell_type": "code",
      "metadata": {
        "colab": {
          "base_uri": "https://localhost:8080/"
        },
        "id": "t327WEJ0-w6t",
        "outputId": "a4a184d2-3939-42a2-8706-730f432cb02f"
      },
      "source": [
        "a, b = 20, 20\r\n",
        "print(a is b)#메모리 참조 영역 비교\r\n",
        "print(a == b)#내용 비교\r\n",
        "c, d = [10], [10]\r\n",
        "print(c is d)\r\n",
        "print(c == d)"
      ],
      "execution_count": 12,
      "outputs": [
        {
          "output_type": "stream",
          "text": [
            "True\n",
            "True\n",
            "False\n",
            "True\n"
          ],
          "name": "stdout"
        }
      ]
    },
    {
      "cell_type": "code",
      "metadata": {
        "id": "OK4vs8cgAVHk"
      },
      "source": [
        "''' 전부 가능\r\n",
        "if 0 <= x and x < 100:\r\n",
        "if 0 <= x < 100:\r\n",
        "'''"
      ],
      "execution_count": null,
      "outputs": []
    },
    {
      "cell_type": "code",
      "metadata": {
        "id": "-DroG-PbAiFJ"
      },
      "source": [
        "'''\r\n",
        "while 조건식: -> 조건식이 참인 동안 반복 실행\r\n",
        "\r\n",
        "for 변수명 in 리스트: -> 리스트의 각 요소의 처리\r\n",
        "'''"
      ],
      "execution_count": null,
      "outputs": []
    },
    {
      "cell_type": "code",
      "metadata": {
        "colab": {
          "base_uri": "https://localhost:8080/"
        },
        "id": "YOQ2te-SBONZ",
        "outputId": "1bdd155b-76a4-44d3-9012-226f5cfd7a44"
      },
      "source": [
        "a = []\r\n",
        "b = list()\r\n",
        "print('a is ', type(a), 'length : ', len(a))\r\n",
        "print('b is ', type(b), 'length : ', len(b))"
      ],
      "execution_count": 14,
      "outputs": [
        {
          "output_type": "stream",
          "text": [
            "a is  <class 'list'> length :  0\n",
            "b is  <class 'list'> length :  0\n"
          ],
          "name": "stdout"
        }
      ]
    },
    {
      "cell_type": "code",
      "metadata": {
        "colab": {
          "base_uri": "https://localhost:8080/"
        },
        "id": "56E_Y8fUC0KT",
        "outputId": "f0b48460-98d1-4f39-e433-293f818eb35d"
      },
      "source": [
        "numbers = [1, 2, 3, 4, 5]\r\n",
        "print(numbers)\r\n",
        "numbers = list([1, 2, 3, 4, 5])\r\n",
        "print(numbers)\r\n",
        "print(numbers[0])"
      ],
      "execution_count": 15,
      "outputs": [
        {
          "output_type": "stream",
          "text": [
            "[1, 2, 3, 4, 5]\n",
            "[1, 2, 3, 4, 5]\n",
            "1\n"
          ],
          "name": "stdout"
        }
      ]
    },
    {
      "cell_type": "code",
      "metadata": {
        "colab": {
          "base_uri": "https://localhost:8080/"
        },
        "id": "tJZGevaTDgme",
        "outputId": "e64debd4-f354-461c-98db-a089678dca3a"
      },
      "source": [
        "li = [1, 2, 3, 4, 5]\r\n",
        "print(li)\r\n",
        "li.append(6)\r\n",
        "print(li)\r\n",
        "li.append([10, 20, 30])\r\n",
        "print(li)"
      ],
      "execution_count": 16,
      "outputs": [
        {
          "output_type": "stream",
          "text": [
            "[1, 2, 3, 4, 5]\n",
            "[1, 2, 3, 4, 5, 6]\n",
            "[1, 2, 3, 4, 5, 6, [10, 20, 30]]\n"
          ],
          "name": "stdout"
        }
      ]
    },
    {
      "cell_type": "code",
      "metadata": {
        "colab": {
          "base_uri": "https://localhost:8080/"
        },
        "id": "mIJQxdP3Do4m",
        "outputId": "15a8b0e6-5d26-43a4-ec30-806cb43ac5fa"
      },
      "source": [
        "li = [1, 2, 3, 4, 5]\r\n",
        "li.append(6)\r\n",
        "print(li[5])\r\n",
        "li.append([10, 20, 30])\r\n",
        "print(li[6])\r\n",
        "print(li[6][0])\r\n",
        "#print(li[7]) -> 출력되지 않는다."
      ],
      "execution_count": 18,
      "outputs": [
        {
          "output_type": "stream",
          "text": [
            "6\n",
            "[10, 20, 30]\n",
            "10\n"
          ],
          "name": "stdout"
        }
      ]
    },
    {
      "cell_type": "code",
      "metadata": {
        "colab": {
          "base_uri": "https://localhost:8080/"
        },
        "id": "f_VtEJ8ZFhci",
        "outputId": "d5ea8bf3-eb70-4006-cd9b-e96c07db13d3"
      },
      "source": [
        "first = [1, 2, 3]\r\n",
        "second = [10, 20, 30]\r\n",
        "first.append(second)\r\n",
        "print(first)\r\n",
        "#10을 출력하지 위해서?\r\n",
        "print(first[3][0])"
      ],
      "execution_count": 19,
      "outputs": [
        {
          "output_type": "stream",
          "text": [
            "[1, 2, 3, [10, 20, 30]]\n",
            "10\n"
          ],
          "name": "stdout"
        }
      ]
    },
    {
      "cell_type": "code",
      "metadata": {
        "colab": {
          "base_uri": "https://localhost:8080/"
        },
        "id": "58tgLdjqFs43",
        "outputId": "45317aff-7210-4680-b3ed-28b2356289be"
      },
      "source": [
        "first = [1, 2, 3]\r\n",
        "second = [10, 20, 30]\r\n",
        "first = first + second\r\n",
        "print(first)\r\n",
        "#10을 출력하지 위해서?\r\n",
        "print(first[3])"
      ],
      "execution_count": 21,
      "outputs": [
        {
          "output_type": "stream",
          "text": [
            "[1, 2, 3, 10, 20, 30]\n",
            "10\n"
          ],
          "name": "stdout"
        }
      ]
    },
    {
      "cell_type": "code",
      "metadata": {
        "colab": {
          "base_uri": "https://localhost:8080/"
        },
        "id": "1ha56vmmGM30",
        "outputId": "a48ddf71-cc9c-4f02-b606-ee2d68c7a1d4"
      },
      "source": [
        "first = [1, 2, 3]\r\n",
        "second = first\r\n",
        "print(first, \"vs\", second)\r\n",
        "\r\n",
        "first [0] = 10\r\n",
        "print(first, \"vs\", second)"
      ],
      "execution_count": 22,
      "outputs": [
        {
          "output_type": "stream",
          "text": [
            "[1, 2, 3] vs [1, 2, 3]\n",
            "[10, 2, 3] vs [10, 2, 3]\n"
          ],
          "name": "stdout"
        }
      ]
    },
    {
      "cell_type": "code",
      "metadata": {
        "colab": {
          "base_uri": "https://localhost:8080/"
        },
        "id": "-A_ZgZG6GUak",
        "outputId": "b0d6fa0f-9f3d-4b71-8dd3-a7e2c8b4319d"
      },
      "source": [
        "first = [1, 2, 3]\r\n",
        "second = first.copy()\r\n",
        "print(first, \"vs\", second)\r\n",
        "\r\n",
        "first [0] = 10\r\n",
        "print(first, \"vs\", second)"
      ],
      "execution_count": 23,
      "outputs": [
        {
          "output_type": "stream",
          "text": [
            "[1, 2, 3] vs [1, 2, 3]\n",
            "[10, 2, 3] vs [1, 2, 3]\n"
          ],
          "name": "stdout"
        }
      ]
    },
    {
      "cell_type": "code",
      "metadata": {
        "colab": {
          "base_uri": "https://localhost:8080/"
        },
        "id": "yAkjJZ--HXaA",
        "outputId": "081c22ba-cb4b-4564-b190-da0027ab6fb6"
      },
      "source": [
        "numbers = [1, 5, 3, 7, 8, 10]\r\n",
        "count = numbers.count(3)\r\n",
        "print(\"count of 3 \", count)\r\n",
        "index = numbers.index(3)\r\n",
        "print(\"index of 3 \", index)"
      ],
      "execution_count": 24,
      "outputs": [
        {
          "output_type": "stream",
          "text": [
            "count of 3  1\n",
            "index of 3  2\n"
          ],
          "name": "stdout"
        }
      ]
    },
    {
      "cell_type": "code",
      "metadata": {
        "colab": {
          "base_uri": "https://localhost:8080/"
        },
        "id": "GYXDcVNFIJTN",
        "outputId": "bf789594-6ed1-44f7-a341-d52511acc064"
      },
      "source": [
        "numbers = [1, 5, 3, 7, 8, 10]\r\n",
        "if 6 is numbers:\r\n",
        "  print(\"index of 6 : \", numbers.index(6))\r\n",
        "else:\r\n",
        "  print(\"not found 6 in list\")"
      ],
      "execution_count": 25,
      "outputs": [
        {
          "output_type": "stream",
          "text": [
            "not found 6 in list\n"
          ],
          "name": "stdout"
        }
      ]
    },
    {
      "cell_type": "code",
      "metadata": {
        "colab": {
          "base_uri": "https://localhost:8080/"
        },
        "id": "YOcxJ9w1LrHt",
        "outputId": "60262b28-f5e4-41b3-a1e4-069c3bfa0d15"
      },
      "source": [
        "numbers = [1, 2, 3]\r\n",
        "numbers.insert(1, 4)\r\n",
        "print(numbers)\r\n",
        "numbers.remove(2)\r\n",
        "print(numbers)"
      ],
      "execution_count": 26,
      "outputs": [
        {
          "output_type": "stream",
          "text": [
            "[1, 4, 2, 3]\n",
            "[1, 4, 3]\n"
          ],
          "name": "stdout"
        }
      ]
    },
    {
      "cell_type": "code",
      "metadata": {
        "colab": {
          "base_uri": "https://localhost:8080/"
        },
        "id": "3oJ285tJMY-I",
        "outputId": "76870902-7b17-4ee8-a589-20db8dc308df"
      },
      "source": [
        "numbers = [1, 5, 3, 7, 8, 10]\r\n",
        "numbers.reverse()\r\n",
        "print(numbers)"
      ],
      "execution_count": 29,
      "outputs": [
        {
          "output_type": "stream",
          "text": [
            "[10, 8, 7, 3, 5, 1]\n"
          ],
          "name": "stdout"
        }
      ]
    },
    {
      "cell_type": "code",
      "metadata": {
        "colab": {
          "base_uri": "https://localhost:8080/"
        },
        "id": "4oZysZXdMPyG",
        "outputId": "550b4022-6ddf-4aed-b8ba-60dff5d51a8d"
      },
      "source": [
        "numbers = [1, 5, 3, 7, 8, 10]\r\n",
        "numbers.sort()\r\n",
        "print(numbers)\r\n",
        "numbers.reverse()\r\n",
        "print(numbers)"
      ],
      "execution_count": 30,
      "outputs": [
        {
          "output_type": "stream",
          "text": [
            "[1, 3, 5, 7, 8, 10]\n",
            "[10, 8, 7, 5, 3, 1]\n"
          ],
          "name": "stdout"
        }
      ]
    },
    {
      "cell_type": "code",
      "metadata": {
        "colab": {
          "base_uri": "https://localhost:8080/"
        },
        "id": "Q9JOZ6VmMg0i",
        "outputId": "28c70e13-1f21-438b-fe34-2f3b907b4ec9"
      },
      "source": [
        "numbers = [10, 20, 30]\r\n",
        "print(numbers.pop())\r\n",
        "print(numbers.pop())\r\n",
        "print(numbers.pop())\r\n",
        "print(len(numbers))"
      ],
      "execution_count": 33,
      "outputs": [
        {
          "output_type": "stream",
          "text": [
            "30\n",
            "20\n",
            "10\n",
            "0\n"
          ],
          "name": "stdout"
        }
      ]
    },
    {
      "cell_type": "code",
      "metadata": {
        "colab": {
          "base_uri": "https://localhost:8080/"
        },
        "id": "v6yrdcRYM-3a",
        "outputId": "9f0879dc-4771-48d9-e6c4-bda13a59cb9e"
      },
      "source": [
        "scores = [\"a\", \"b\", \"c\", \"d\", \"e\", \"f\"]\r\n",
        "for i in scores:\r\n",
        "  print(i)"
      ],
      "execution_count": 34,
      "outputs": [
        {
          "output_type": "stream",
          "text": [
            "a\n",
            "b\n",
            "c\n",
            "d\n",
            "e\n",
            "f\n"
          ],
          "name": "stdout"
        }
      ]
    },
    {
      "cell_type": "code",
      "metadata": {
        "colab": {
          "base_uri": "https://localhost:8080/"
        },
        "id": "vnM837ZTNTKX",
        "outputId": "e928c605-e99c-4fec-d36f-ef7f11cb3f5d"
      },
      "source": [
        "scores = [\"a\", \"b\", \"c\", \"d\", \"e\", \"f\"]\r\n",
        "i = 0\r\n",
        "while i < len(scores):\r\n",
        "  print(scores[i])\r\n",
        "  i += 1"
      ],
      "execution_count": 35,
      "outputs": [
        {
          "output_type": "stream",
          "text": [
            "a\n",
            "b\n",
            "c\n",
            "d\n",
            "e\n",
            "f\n"
          ],
          "name": "stdout"
        }
      ]
    },
    {
      "cell_type": "code",
      "metadata": {
        "colab": {
          "base_uri": "https://localhost:8080/"
        },
        "id": "BkRMPY9RN-Z_",
        "outputId": "9017a448-de73-449b-de0c-e49b1e692a99"
      },
      "source": [
        "for i in range(5):\r\n",
        "  print(i)"
      ],
      "execution_count": 36,
      "outputs": [
        {
          "output_type": "stream",
          "text": [
            "0\n",
            "1\n",
            "2\n",
            "3\n",
            "4\n"
          ],
          "name": "stdout"
        }
      ]
    },
    {
      "cell_type": "code",
      "metadata": {
        "colab": {
          "base_uri": "https://localhost:8080/"
        },
        "id": "9Jv67od-OOX8",
        "outputId": "4efd6e9c-c562-49fb-b2ec-20739bb2bd75"
      },
      "source": [
        "i = 0\r\n",
        "while i < 5:\r\n",
        "  print(i)\r\n",
        "  i += 1"
      ],
      "execution_count": 38,
      "outputs": [
        {
          "output_type": "stream",
          "text": [
            "0\n",
            "1\n",
            "2\n",
            "3\n",
            "4\n"
          ],
          "name": "stdout"
        }
      ]
    },
    {
      "cell_type": "code",
      "metadata": {
        "colab": {
          "base_uri": "https://localhost:8080/"
        },
        "id": "fwqcC-iqPfyR",
        "outputId": "5a309c1f-aeac-41ff-c5ed-19f54d3d8357"
      },
      "source": [
        "a = list(range(10))\r\n",
        "print(a)\r\n",
        "b = list(range(5, 10))\r\n",
        "print(b)\r\n",
        "c = list(range(1, 10, 2))\r\n",
        "print(c)"
      ],
      "execution_count": 40,
      "outputs": [
        {
          "output_type": "stream",
          "text": [
            "[0, 1, 2, 3, 4, 5, 6, 7, 8, 9]\n",
            "[5, 6, 7, 8, 9]\n",
            "[1, 3, 5, 7, 9]\n"
          ],
          "name": "stdout"
        }
      ]
    },
    {
      "cell_type": "code",
      "metadata": {
        "colab": {
          "base_uri": "https://localhost:8080/"
        },
        "id": "QPLJ4NGtPvLP",
        "outputId": "72980e02-a944-4b04-bae1-950305aa2d19"
      },
      "source": [
        "for i in range(5):\r\n",
        "  print(i, end = '')"
      ],
      "execution_count": 41,
      "outputs": [
        {
          "output_type": "stream",
          "text": [
            "01234"
          ],
          "name": "stdout"
        }
      ]
    },
    {
      "cell_type": "code",
      "metadata": {
        "colab": {
          "base_uri": "https://localhost:8080/"
        },
        "id": "cgvT3GONP-A_",
        "outputId": "3e98a721-59b9-4389-f443-a3c17e1166a4"
      },
      "source": [
        "for i in list(range(5)):\r\n",
        "  print(i, end = ' ')"
      ],
      "execution_count": 42,
      "outputs": [
        {
          "output_type": "stream",
          "text": [
            "0 1 2 3 4 "
          ],
          "name": "stdout"
        }
      ]
    },
    {
      "cell_type": "code",
      "metadata": {
        "colab": {
          "base_uri": "https://localhost:8080/"
        },
        "id": "MOo9-VXlQ1oN",
        "outputId": "153c6526-f5e9-46c3-d24d-855c23b74b66"
      },
      "source": [
        "arr = list(range(1, 11))\r\n",
        "sum = 0\r\n",
        "for i in arr:\r\n",
        "  sum += i\r\n",
        "avg = sum/len(arr)\r\n",
        "print(sum)\r\n",
        "print(avg)\r\n",
        "print(arr)"
      ],
      "execution_count": 44,
      "outputs": [
        {
          "output_type": "stream",
          "text": [
            "55\n",
            "5.5\n",
            "[1, 2, 3, 4, 5, 6, 7, 8, 9, 10]\n"
          ],
          "name": "stdout"
        }
      ]
    },
    {
      "cell_type": "code",
      "metadata": {
        "colab": {
          "base_uri": "https://localhost:8080/"
        },
        "id": "I-Jnl2XDSIRa",
        "outputId": "427470b6-7aea-419a-dcbd-7010033ad2b4"
      },
      "source": [
        "arr = [1, 2, -4, 56, 8, 89, 77, 23, 4, 22]\r\n",
        "max = arr[0]\r\n",
        "for i in arr:\r\n",
        "  if max < i:\r\n",
        "    max = i\r\n",
        "print(max)"
      ],
      "execution_count": 45,
      "outputs": [
        {
          "output_type": "stream",
          "text": [
            "89\n"
          ],
          "name": "stdout"
        }
      ]
    },
    {
      "cell_type": "code",
      "metadata": {
        "colab": {
          "base_uri": "https://localhost:8080/"
        },
        "id": "1kNlZTs8SjJC",
        "outputId": "788bb064-dda7-4136-fdba-1e41e2be59e7"
      },
      "source": [
        "arr = [1, 2, -4, 56, 8, 89, 77, 23, 4, 22]\r\n",
        "min = arr[0]\r\n",
        "for i in arr:\r\n",
        "  if min > i:\r\n",
        "    min = i\r\n",
        "print(min)"
      ],
      "execution_count": 46,
      "outputs": [
        {
          "output_type": "stream",
          "text": [
            "-4\n"
          ],
          "name": "stdout"
        }
      ]
    },
    {
      "cell_type": "code",
      "metadata": {
        "colab": {
          "base_uri": "https://localhost:8080/"
        },
        "id": "orcYHisoS-fG",
        "outputId": "a6d87f45-e995-4cc7-9e88-03a4b0c8045f"
      },
      "source": [
        "arr = [1, 2, -4, 56, 8, 89, 77, 23, 4, 22]\r\n",
        "arr.sort()\r\n",
        "min = arr[0]\r\n",
        "max = arr[len(arr)-1]\r\n",
        "print('min : ', min, 'max : ', max)"
      ],
      "execution_count": 47,
      "outputs": [
        {
          "output_type": "stream",
          "text": [
            "min :  -4 max :  89\n"
          ],
          "name": "stdout"
        }
      ]
    },
    {
      "cell_type": "code",
      "metadata": {
        "colab": {
          "base_uri": "https://localhost:8080/"
        },
        "id": "2fh5UZvyUe_h",
        "outputId": "328f1667-6b3a-4004-f7a1-0ea2296cd52a"
      },
      "source": [
        "arr = [1, 2, -4, 56, 8, 89, 77, 23, 4, 22]\r\n",
        "search_value = 8\r\n",
        "for i in arr:\r\n",
        "  if i == search_value:\r\n",
        "    print(i, \"찾았다.\")"
      ],
      "execution_count": 48,
      "outputs": [
        {
          "output_type": "stream",
          "text": [
            "8 찾았다.\n"
          ],
          "name": "stdout"
        }
      ]
    },
    {
      "cell_type": "code",
      "metadata": {
        "colab": {
          "base_uri": "https://localhost:8080/"
        },
        "id": "yvfMGuS3U2S2",
        "outputId": "e5a25f23-bde4-45e8-ad80-0852afb0e4a1"
      },
      "source": [
        "arr = [1, 2, -4, 56, 8, 89, 77, 23, 4, 22]\r\n",
        "index = arr.index(8)\r\n",
        "print(index)"
      ],
      "execution_count": 49,
      "outputs": [
        {
          "output_type": "stream",
          "text": [
            "4\n"
          ],
          "name": "stdout"
        }
      ]
    },
    {
      "cell_type": "code",
      "metadata": {
        "colab": {
          "base_uri": "https://localhost:8080/"
        },
        "id": "n9AJIfhXVQhm",
        "outputId": "eb17612e-f9f0-4dda-9bd9-1ea0db24863f"
      },
      "source": [
        "arr = [1, 2, -4, 56, 8, 89, 77, 23, 4, 22]\r\n",
        "try:\r\n",
        "  index = arr.index(0)\r\n",
        "  print(index)\r\n",
        "except:\r\n",
        "  print(\"찾지 못함\")"
      ],
      "execution_count": 50,
      "outputs": [
        {
          "output_type": "stream",
          "text": [
            "찾지 못함\n"
          ],
          "name": "stdout"
        }
      ]
    },
    {
      "cell_type": "code",
      "metadata": {
        "colab": {
          "base_uri": "https://localhost:8080/"
        },
        "id": "Ff31PPnZVbgP",
        "outputId": "27df5708-9a76-442e-a1b2-385b26d839e4"
      },
      "source": [
        "arr = [1, 2, 8, 56, 8, 89, 77, 23, 4, 22]\r\n",
        "search_value = 8\r\n",
        "count = arr.count(search_value)\r\n",
        "if count == 0:\r\n",
        "  print(\"없음\")\r\n",
        "else:\r\n",
        "  print(count, \"개 존재\")"
      ],
      "execution_count": 53,
      "outputs": [
        {
          "output_type": "stream",
          "text": [
            "2 개 존재\n"
          ],
          "name": "stdout"
        }
      ]
    }
  ]
}