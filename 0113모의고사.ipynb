{
  "nbformat": 4,
  "nbformat_minor": 0,
  "metadata": {
    "colab": {
      "name": "0113모의고사.ipynb",
      "provenance": [],
      "collapsed_sections": [],
      "authorship_tag": "ABX9TyOalRuLvDdT/Qku3u1jL0jy",
      "include_colab_link": true
    },
    "kernelspec": {
      "name": "python3",
      "display_name": "Python 3"
    }
  },
  "cells": [
    {
      "cell_type": "markdown",
      "metadata": {
        "id": "view-in-github",
        "colab_type": "text"
      },
      "source": [
        "<a href=\"https://colab.research.google.com/github/MinKyeong031/CosPro-Study/blob/main/0113%EB%AA%A8%EC%9D%98%EA%B3%A0%EC%82%AC.ipynb\" target=\"_parent\"><img src=\"https://colab.research.google.com/assets/colab-badge.svg\" alt=\"Open In Colab\"/></a>"
      ]
    },
    {
      "cell_type": "code",
      "metadata": {
        "colab": {
          "base_uri": "https://localhost:8080/"
        },
        "id": "NTYiKUIxSTlQ",
        "outputId": "1e4b9d54-b29d-41e9-b322-4da6458ad940"
      },
      "source": [
        "#01\r\n",
        "def solution(arr, k):\r\n",
        "  answer = k\r\n",
        "  for i in arr:\r\n",
        "    answer -= i\r\n",
        "  if answer < 0:\r\n",
        "    answer = -1\r\n",
        "  return answer\r\n",
        "\r\n",
        "price = [2100, 3200, 2100, 800]\r\n",
        "money = 10000\r\n",
        "solution(price,money)"
      ],
      "execution_count": 31,
      "outputs": [
        {
          "output_type": "execute_result",
          "data": {
            "text/plain": [
              "1800"
            ]
          },
          "metadata": {
            "tags": []
          },
          "execution_count": 31
        }
      ]
    },
    {
      "cell_type": "code",
      "metadata": {
        "colab": {
          "base_uri": "https://localhost:8080/"
        },
        "id": "MIIeB4PITFVc",
        "outputId": "a9a9b996-b3bd-4f29-9da5-551e851a6f9e"
      },
      "source": [
        "#02\r\n",
        "def func_a(s):\r\n",
        "  s.sort()\r\n",
        "  return s[len(s)-1], s[0]\r\n",
        "\r\n",
        "def func_b(s):\r\n",
        "  ret = 0\r\n",
        "  for i in s:\r\n",
        "    ret += i\r\n",
        "  return ret\r\n",
        "\r\n",
        "def solution(scores):\r\n",
        "  sum = func_b(scores)\r\n",
        "  max, min = func_a(scores)\r\n",
        "  return sum-max-min\r\n",
        "\r\n",
        "scores = [10,20,50,90,30,40]\r\n",
        "solution(scores)"
      ],
      "execution_count": 30,
      "outputs": [
        {
          "output_type": "execute_result",
          "data": {
            "text/plain": [
              "140"
            ]
          },
          "metadata": {
            "tags": []
          },
          "execution_count": 30
        }
      ]
    },
    {
      "cell_type": "code",
      "metadata": {
        "colab": {
          "base_uri": "https://localhost:8080/"
        },
        "id": "R8oH7FmmU4nh",
        "outputId": "b1287e37-16fe-44cc-81f4-848ce92ed421"
      },
      "source": [
        "#03\r\n",
        "def solution(scores):\r\n",
        "  count = 0\r\n",
        "  for s in range(len(scores)):\r\n",
        "    if scores[s] <= 200:\r\n",
        "      count += 1\r\n",
        "  return count\r\n",
        "\r\n",
        "scores = [100,200,300,400]\r\n",
        "solution(scores)"
      ],
      "execution_count": 29,
      "outputs": [
        {
          "output_type": "execute_result",
          "data": {
            "text/plain": [
              "2"
            ]
          },
          "metadata": {
            "tags": []
          },
          "execution_count": 29
        }
      ]
    },
    {
      "cell_type": "code",
      "metadata": {
        "colab": {
          "base_uri": "https://localhost:8080/"
        },
        "id": "vOSg85x2VZFT",
        "outputId": "150f6552-b3b6-4664-cd3b-6444f3f4bb7d"
      },
      "source": [
        "#04\r\n",
        "def solution(price, grade):\r\n",
        "  answer = 0\r\n",
        "  if grade == \"S\":\r\n",
        "    answer = int(price + price * 0.05)\r\n",
        "  elif grade == \"G\":\r\n",
        "    answer = int(price + price * 0.1)\r\n",
        "  elif grade == \"V\":\r\n",
        "    answer = int(price + price * 0.15)\r\n",
        "  return answer\r\n",
        "\r\n",
        "price = 1300\r\n",
        "grade = \"G\"\r\n",
        "solution(price,grade)"
      ],
      "execution_count": 28,
      "outputs": [
        {
          "output_type": "execute_result",
          "data": {
            "text/plain": [
              "1430"
            ]
          },
          "metadata": {
            "tags": []
          },
          "execution_count": 28
        }
      ]
    },
    {
      "cell_type": "code",
      "metadata": {
        "colab": {
          "base_uri": "https://localhost:8080/"
        },
        "id": "ErtfvHenV0Vk",
        "outputId": "f57dc489-cadc-4be7-9487-233a57892e05"
      },
      "source": [
        "#05\r\n",
        "def solution(number):\r\n",
        "  count = 0\r\n",
        "  for i in range(1, number+1):\r\n",
        "    current = i\r\n",
        "    while current != 0:\r\n",
        "      unit = current % 10\r\n",
        "      if unit == 3 or unit == 6 or unit == 9:\r\n",
        "        count += 1\r\n",
        "      current //= 10\r\n",
        "  return count\r\n",
        "\r\n",
        "number = 36\r\n",
        "solution(number)"
      ],
      "execution_count": 27,
      "outputs": [
        {
          "output_type": "execute_result",
          "data": {
            "text/plain": [
              "18"
            ]
          },
          "metadata": {
            "tags": []
          },
          "execution_count": 27
        }
      ]
    },
    {
      "cell_type": "code",
      "metadata": {
        "colab": {
          "base_uri": "https://localhost:8080/"
        },
        "id": "-j25yB4ZW-3d",
        "outputId": "e1bf67b5-c812-4f1f-c145-9c954692d51b"
      },
      "source": [
        "#06\r\n",
        "def solution(left_rings):\r\n",
        "  answer = 0\r\n",
        "  for i in range(len(left_rings)):\r\n",
        "    if left_rings[i] <= i:\r\n",
        "      for k in range(i):\r\n",
        "        if left_rings[k] > left_rings[i]:\r\n",
        "          answer += 1\r\n",
        "  return answer\r\n",
        "\r\n",
        "leftrings = [1,4,2,5,3]\r\n",
        "solution(leftrings)"
      ],
      "execution_count": 25,
      "outputs": [
        {
          "output_type": "execute_result",
          "data": {
            "text/plain": [
              "3"
            ]
          },
          "metadata": {
            "tags": []
          },
          "execution_count": 25
        }
      ]
    },
    {
      "cell_type": "code",
      "metadata": {
        "colab": {
          "base_uri": "https://localhost:8080/"
        },
        "id": "h4oVp5V-Xmq0",
        "outputId": "3a0a2e82-ea20-4fc9-8e9a-1ae3d3304b65"
      },
      "source": [
        "#07\r\n",
        "def solution(file_info):\r\n",
        "  success = 0\r\n",
        "  fail = 0\r\n",
        "  for f in file_info:\r\n",
        "    splited = f.split(\",\")\r\n",
        "    if splited[0] == \"jpeg\" and int(splited[2]) < 1000:\r\n",
        "      success += 1\r\n",
        "    else:\r\n",
        "      fail += 1\r\n",
        "    return success, fail\r\n",
        "\r\n",
        "files_info = [\"jpeg,all.jpg,1500\",\"mpeg,all.mp3,500\"]\r\n",
        "solution(files_info)"
      ],
      "execution_count": 26,
      "outputs": [
        {
          "output_type": "execute_result",
          "data": {
            "text/plain": [
              "(0, 1)"
            ]
          },
          "metadata": {
            "tags": []
          },
          "execution_count": 26
        }
      ]
    },
    {
      "cell_type": "code",
      "metadata": {
        "colab": {
          "base_uri": "https://localhost:8080/"
        },
        "id": "Sz1u8GXiZqZo",
        "outputId": "8b0dd9d4-cd45-42f9-a946-59273ec8daa6"
      },
      "source": [
        "#08\r\n",
        "def solution(sentence):\r\n",
        "  filtered = []\r\n",
        "  for s in sentence:\r\n",
        "    if s != '' and s != '.':\r\n",
        "      filtered.append(s)\r\n",
        "  before = ''.join(filtered)\r\n",
        "  filtered.reverse()\r\n",
        "  after = ''.join(filtered)\r\n",
        "  return before == after\r\n",
        "\r\n",
        "sentence = \"r     ace c.a.ra\"\r\n",
        "solution(sentence)"
      ],
      "execution_count": 24,
      "outputs": [
        {
          "output_type": "execute_result",
          "data": {
            "text/plain": [
              "False"
            ]
          },
          "metadata": {
            "tags": []
          },
          "execution_count": 24
        }
      ]
    },
    {
      "cell_type": "code",
      "metadata": {
        "colab": {
          "base_uri": "https://localhost:8080/",
          "height": 35
        },
        "id": "S1YeydzKaTkH",
        "outputId": "18786064-7099-4bce-acb1-eb404fe8cfed"
      },
      "source": [
        "#09\r\n",
        "def solution(characters):\r\n",
        "  result = [characters[0]]\r\n",
        "  for i in range(1, len(characters)):\r\n",
        "    if characters[i-1] != characters[i]:\r\n",
        "      result.append(characters[i])\r\n",
        "  return ''.join(result)\r\n",
        "  \r\n",
        "sentence = \"senteeeencccccceeee\"\r\n",
        "solution(sentence)"
      ],
      "execution_count": 23,
      "outputs": [
        {
          "output_type": "execute_result",
          "data": {
            "application/vnd.google.colaboratory.intrinsic+json": {
              "type": "string"
            },
            "text/plain": [
              "'sentence'"
            ]
          },
          "metadata": {
            "tags": []
          },
          "execution_count": 23
        }
      ]
    },
    {
      "cell_type": "code",
      "metadata": {
        "colab": {
          "base_uri": "https://localhost:8080/"
        },
        "id": "evxZRP01a5JK",
        "outputId": "3ac15b22-56a3-4d9e-a741-4b93072db9e0"
      },
      "source": [
        "#10\r\n",
        "def solution(data):\r\n",
        "    total = 0\r\n",
        "    for i in data:\r\n",
        "        total += i\r\n",
        "    cnt = 0\r\n",
        "    average = total // len(data)\r\n",
        "    for i in data:\r\n",
        "        if i < average:\r\n",
        "            cnt += 1\r\n",
        "    return cnt\r\n",
        "\r\n",
        "\r\n",
        "data = [1, 2, 3, 4, 5, 6, 7, 8, 9, 10]\r\n",
        "solution(data)"
      ],
      "execution_count": 22,
      "outputs": [
        {
          "output_type": "execute_result",
          "data": {
            "text/plain": [
              "4"
            ]
          },
          "metadata": {
            "tags": []
          },
          "execution_count": 22
        }
      ]
    }
  ]
}